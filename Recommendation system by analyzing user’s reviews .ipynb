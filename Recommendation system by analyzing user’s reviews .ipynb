{
 "cells": [
  {
   "cell_type": "code",
   "execution_count": 2,
   "id": "younger-vaccine",
   "metadata": {},
   "outputs": [],
   "source": [
    "#!pip install scikit-surprise"
   ]
  },
  {
   "cell_type": "code",
   "execution_count": 143,
   "id": "geological-chest",
   "metadata": {},
   "outputs": [],
   "source": [
    "%matplotlib inline\n",
    "import numpy as np\n",
    "import pandas as pd\n",
    "from matplotlib import pyplot as plt\n",
    "import seaborn as sns\n",
    "import warnings\n",
    "warnings.filterwarnings('ignore')\n",
    "from sklearn import metrics\n",
    "from surprise import Reader\n",
    "from surprise import SVD\n",
    "from surprise import Dataset\n",
    "from surprise.model_selection import cross_validate\n",
    "from surprise.model_selection import train_test_split\n",
    "from surprise import accuracy\n",
    "from surprise import KNNBasic\n",
    "from surprise import KNNWithMeans\n",
    "from collections import defaultdict\n",
    "from sklearn.metrics import mean_squared_error\n",
    "from sklearn.metrics import mean_absolute_error\n",
    "from sklearn.metrics import mean_absolute_error\n",
    "from sklearn.metrics import mean_squared_log_error\n",
    "from sklearn.metrics import mean_absolute_percentage_error\n",
    "from sklearn.metrics import r2_score"
   ]
  },
  {
   "cell_type": "code",
   "execution_count": 4,
   "id": "great-success",
   "metadata": {},
   "outputs": [
    {
     "name": "stdout",
     "output_type": "stream",
     "text": [
      "\n",
      "Beauty products:\n",
      "           UserId   ProductId  Rating   Timestamp\n",
      "0  A39HTATAQ9V7YF  0205616461     5.0  1369699200\n",
      "1  A3JM6GV9MNOF9X  0558925278     3.0  1355443200\n",
      "2  A1Z513UWSAAO0F  0558925278     5.0  1404691200\n",
      "                 UserId   ProductId  Rating   Timestamp\n",
      "2023068   AYBIB14QOI9PC  B00LPVG6V0     5.0  1405555200\n",
      "2023069  A1PB6OT0OOPKNQ  B00LU0LTOU     5.0  1405641600\n",
      "\n",
      "Electronic products:\n",
      "           UserId  ProductId  Rating   Timestamp\n",
      "0  A2CX7LUOHB2NDG  321732944       5  1341100800\n",
      "1  A2NWSAGRHCP8N5  439886341       1  1367193600\n",
      "2  A2WNBOD3WNDNKT  439886341       3  1374451200\n",
      "                 UserId   ProductId  Rating   Timestamp\n",
      "1048573  A2KIYE5RF0OEMY  B000IF51UQ       4  1391212800\n",
      "1048574  A1G9Q5UJ5Y7DES  B000IF51UQ       2  1390780800\n",
      "\n",
      "Shape of beauty products: (2023070, 4) \n",
      "Shape of electronic products: (1048575, 4)\n",
      "\n",
      "After merge two data-set:\n",
      "\n",
      "data-set:\n",
      "            UserId   ProductId  Rating   Timestamp\n",
      "0  A39HTATAQ9V7YF  0205616461     5.0  1369699200\n",
      "1  A3JM6GV9MNOF9X  0558925278     3.0  1355443200\n",
      "2  A1Z513UWSAAO0F  0558925278     5.0  1404691200\n",
      "                 UserId   ProductId  Rating   Timestamp\n",
      "1048573  A2KIYE5RF0OEMY  B000IF51UQ     4.0  1391212800\n",
      "1048574  A1G9Q5UJ5Y7DES  B000IF51UQ     2.0  1390780800\n",
      "\n",
      "data-set shape:\n",
      " (3071645, 4)\n"
     ]
    }
   ],
   "source": [
    "#plt.style.use('dark_background')\n",
    "\n",
    "beautyProduct_data = pd.read_csv('recommend_products.csv')\n",
    "\n",
    "header_list = ['UserId', 'ProductId', 'Rating', 'Timestamp']\n",
    "electronics_data = pd.read_csv('Electronics.csv')\n",
    "\n",
    "beautyProduct_data = beautyProduct_data.dropna()\n",
    "print('\\nBeauty products:')\n",
    "print(beautyProduct_data.head(3))\n",
    "print(beautyProduct_data.tail(2))\n",
    "\n",
    "electronics_data = electronics_data.dropna()\n",
    "print('\\nElectronic products:')\n",
    "print(electronics_data.head(3))\n",
    "print(electronics_data.tail(2))\n",
    "\n",
    "print('\\nShape of beauty products:', beautyProduct_data.shape, '\\nShape of electronic products:', electronics_data.shape)\n",
    "\n",
    "all_data = [beautyProduct_data, electronics_data]\n",
    "df = pd.concat(all_data)\n",
    "print('\\nAfter merge two data-set:\\n')\n",
    "print('data-set:\\n', df.head(3))\n",
    "print(df.tail(2))\n",
    "print('\\ndata-set shape:\\n', df.shape)"
   ]
  },
  {
   "cell_type": "code",
   "execution_count": 5,
   "id": "looking-luxembourg",
   "metadata": {},
   "outputs": [
    {
     "name": "stdout",
     "output_type": "stream",
     "text": [
      "\n",
      "Recommending top 10 products to a new customer:\n",
      "\n",
      "['B0002L5R78', 'B001MA0QY2', 'B0001FTVEK', 'B000I68BD4', 'B000BQ7GW8', 'B00007E7JU', 'B000BKJZ9Q', 'B000B9RI14', 'B0009V1YR8', 'B000A6PPOK']\n"
     ]
    },
    {
     "data": {
      "image/png": "[encoded data removed]",
      "text/plain": [
       "<Figure size 432x288 with 1 Axes>"
      ]
     },
     "metadata": {
      "needs_background": "light"
     },
     "output_type": "display_data"
    }
   ],
   "source": [
    "high_rating_products = pd.DataFrame(df.groupby('ProductId')['Rating'].count())\n",
    "highest_rating = high_rating_products.sort_values('Rating', ascending=False)\n",
    "print('\\nRecommending top 10 products to a new customer:\\n')\n",
    "print(highest_rating.head(10).index.tolist())\n",
    "highest_rating.head(10).plot(kind='bar')\n",
    "plt.show()"
   ]
  },
  {
   "cell_type": "code",
   "execution_count": 6,
   "id": "fifth-compression",
   "metadata": {},
   "outputs": [
    {
     "data": {
      "text/html": [
       "<div>\n",
       "<style scoped>\n",
       "    .dataframe tbody tr th:only-of-type {\n",
       "        vertical-align: middle;\n",
       "    }\n",
       "\n",
       "    .dataframe tbody tr th {\n",
       "        vertical-align: top;\n",
       "    }\n",
       "\n",
       "    .dataframe thead th {\n",
       "        text-align: right;\n",
       "    }\n",
       "</style>\n",
       "<table border=\"1\" class=\"dataframe\">\n",
       "  <thead>\n",
       "    <tr style=\"text-align: right;\">\n",
       "      <th></th>\n",
       "      <th>UserId</th>\n",
       "      <th>ProductId</th>\n",
       "      <th>Rating</th>\n",
       "      <th>Timestamp</th>\n",
       "    </tr>\n",
       "  </thead>\n",
       "  <tbody>\n",
       "    <tr>\n",
       "      <th>0</th>\n",
       "      <td>A39HTATAQ9V7YF</td>\n",
       "      <td>0205616461</td>\n",
       "      <td>5.0</td>\n",
       "      <td>1369699200</td>\n",
       "    </tr>\n",
       "    <tr>\n",
       "      <th>1</th>\n",
       "      <td>A3JM6GV9MNOF9X</td>\n",
       "      <td>0558925278</td>\n",
       "      <td>3.0</td>\n",
       "      <td>1355443200</td>\n",
       "    </tr>\n",
       "    <tr>\n",
       "      <th>2</th>\n",
       "      <td>A1Z513UWSAAO0F</td>\n",
       "      <td>0558925278</td>\n",
       "      <td>5.0</td>\n",
       "      <td>1404691200</td>\n",
       "    </tr>\n",
       "    <tr>\n",
       "      <th>3</th>\n",
       "      <td>A1WMRR494NWEWV</td>\n",
       "      <td>0733001998</td>\n",
       "      <td>4.0</td>\n",
       "      <td>1382572800</td>\n",
       "    </tr>\n",
       "    <tr>\n",
       "      <th>4</th>\n",
       "      <td>A3IAAVS479H7M7</td>\n",
       "      <td>0737104473</td>\n",
       "      <td>1.0</td>\n",
       "      <td>1274227200</td>\n",
       "    </tr>\n",
       "  </tbody>\n",
       "</table>\n",
       "</div>"
      ],
      "text/plain": [
       "           UserId   ProductId  Rating   Timestamp\n",
       "0  A39HTATAQ9V7YF  0205616461     5.0  1369699200\n",
       "1  A3JM6GV9MNOF9X  0558925278     3.0  1355443200\n",
       "2  A1Z513UWSAAO0F  0558925278     5.0  1404691200\n",
       "3  A1WMRR494NWEWV  0733001998     4.0  1382572800\n",
       "4  A3IAAVS479H7M7  0737104473     1.0  1274227200"
      ]
     },
     "execution_count": 6,
     "metadata": {},
     "output_type": "execute_result"
    }
   ],
   "source": [
    "df.head(5)"
   ]
  },
  {
   "cell_type": "code",
   "execution_count": 7,
   "id": "opening-aruba",
   "metadata": {},
   "outputs": [
    {
     "name": "stdout",
     "output_type": "stream",
     "text": [
      "<class 'pandas.core.frame.DataFrame'>\n",
      "Int64Index: 3071645 entries, 0 to 1048574\n",
      "Data columns (total 4 columns):\n",
      " #   Column     Dtype  \n",
      "---  ------     -----  \n",
      " 0   UserId     object \n",
      " 1   ProductId  object \n",
      " 2   Rating     float64\n",
      " 3   Timestamp  int64  \n",
      "dtypes: float64(1), int64(1), object(2)\n",
      "memory usage: 117.2+ MB\n"
     ]
    }
   ],
   "source": [
    "df.info()"
   ]
  },
  {
   "cell_type": "code",
   "execution_count": 8,
   "id": "smaller-matthew",
   "metadata": {},
   "outputs": [
    {
     "data": {
      "text/html": [
       "<div>\n",
       "<style scoped>\n",
       "    .dataframe tbody tr th:only-of-type {\n",
       "        vertical-align: middle;\n",
       "    }\n",
       "\n",
       "    .dataframe tbody tr th {\n",
       "        vertical-align: top;\n",
       "    }\n",
       "\n",
       "    .dataframe thead th {\n",
       "        text-align: right;\n",
       "    }\n",
       "</style>\n",
       "<table border=\"1\" class=\"dataframe\">\n",
       "  <thead>\n",
       "    <tr style=\"text-align: right;\">\n",
       "      <th></th>\n",
       "      <th>Rating</th>\n",
       "      <th>Timestamp</th>\n",
       "    </tr>\n",
       "  </thead>\n",
       "  <tbody>\n",
       "    <tr>\n",
       "      <th>count</th>\n",
       "      <td>3.071645e+06</td>\n",
       "      <td>3.071645e+06</td>\n",
       "    </tr>\n",
       "    <tr>\n",
       "      <th>mean</th>\n",
       "      <td>4.089071e+00</td>\n",
       "      <td>1.322303e+09</td>\n",
       "    </tr>\n",
       "    <tr>\n",
       "      <th>std</th>\n",
       "      <td>1.344714e+00</td>\n",
       "      <td>9.092470e+07</td>\n",
       "    </tr>\n",
       "    <tr>\n",
       "      <th>min</th>\n",
       "      <td>1.000000e+00</td>\n",
       "      <td>9.087552e+08</td>\n",
       "    </tr>\n",
       "    <tr>\n",
       "      <th>25%</th>\n",
       "      <td>4.000000e+00</td>\n",
       "      <td>1.288915e+09</td>\n",
       "    </tr>\n",
       "    <tr>\n",
       "      <th>50%</th>\n",
       "      <td>5.000000e+00</td>\n",
       "      <td>1.360973e+09</td>\n",
       "    </tr>\n",
       "    <tr>\n",
       "      <th>75%</th>\n",
       "      <td>5.000000e+00</td>\n",
       "      <td>1.386547e+09</td>\n",
       "    </tr>\n",
       "    <tr>\n",
       "      <th>max</th>\n",
       "      <td>5.000000e+00</td>\n",
       "      <td>1.406074e+09</td>\n",
       "    </tr>\n",
       "  </tbody>\n",
       "</table>\n",
       "</div>"
      ],
      "text/plain": [
       "             Rating     Timestamp\n",
       "count  3.071645e+06  3.071645e+06\n",
       "mean   4.089071e+00  1.322303e+09\n",
       "std    1.344714e+00  9.092470e+07\n",
       "min    1.000000e+00  9.087552e+08\n",
       "25%    4.000000e+00  1.288915e+09\n",
       "50%    5.000000e+00  1.360973e+09\n",
       "75%    5.000000e+00  1.386547e+09\n",
       "max    5.000000e+00  1.406074e+09"
      ]
     },
     "execution_count": 8,
     "metadata": {},
     "output_type": "execute_result"
    }
   ],
   "source": [
    "df.describe()"
   ]
  },
  {
   "cell_type": "code",
   "execution_count": 9,
   "id": "checked-detection",
   "metadata": {},
   "outputs": [
    {
     "data": {
      "text/plain": [
       "False"
      ]
     },
     "execution_count": 9,
     "metadata": {},
     "output_type": "execute_result"
    }
   ],
   "source": [
    "df.isnull().values.any()"
   ]
  },
  {
   "cell_type": "code",
   "execution_count": 10,
   "id": "naval-share",
   "metadata": {},
   "outputs": [
    {
     "data": {
      "image/png": "[encoded data removed]",
      "text/plain": [
       "<Figure size 1080x360 with 2 Axes>"
      ]
     },
     "metadata": {
      "needs_background": "light"
     },
     "output_type": "display_data"
    }
   ],
   "source": [
    "df.hist(figsize=(15, 5))\n",
    "plt.show()"
   ]
  },
  {
   "cell_type": "code",
   "execution_count": 11,
   "id": "invisible-russian",
   "metadata": {},
   "outputs": [
    {
     "data": {
      "text/plain": [
       "<AxesSubplot:ylabel='Rating'>"
      ]
     },
     "execution_count": 11,
     "metadata": {},
     "output_type": "execute_result"
    },
    {
     "data": {
      "image/png": "[encoded data removed]",
      "text/plain": [
       "<Figure size 432x288 with 1 Axes>"
      ]
     },
     "metadata": {
      "needs_background": "light"
     },
     "output_type": "display_data"
    }
   ],
   "source": [
    "sns.boxplot(y='Rating',data=df)"
   ]
  },
  {
   "cell_type": "code",
   "execution_count": 12,
   "id": "sized-daniel",
   "metadata": {},
   "outputs": [
    {
     "data": {
      "text/plain": [
       "<AxesSubplot:ylabel='Timestamp'>"
      ]
     },
     "execution_count": 12,
     "metadata": {},
     "output_type": "execute_result"
    },
    {
     "data": {
      "image/png": "[encoded data removed]",
      "text/plain": [
       "<Figure size 432x288 with 1 Axes>"
      ]
     },
     "metadata": {
      "needs_background": "light"
     },
     "output_type": "display_data"
    }
   ],
   "source": [
    "sns.boxplot(y='Timestamp',data=df)"
   ]
  },
  {
   "cell_type": "markdown",
   "id": "roman-boost",
   "metadata": {},
   "source": [
    "### isin() method helps in selecting rows with having a particular(or Multiple) value in a particular column"
   ]
  },
  {
   "cell_type": "code",
   "execution_count": 13,
   "id": "improving-physics",
   "metadata": {},
   "outputs": [
    {
     "data": {
      "text/html": [
       "<div>\n",
       "<style scoped>\n",
       "    .dataframe tbody tr th:only-of-type {\n",
       "        vertical-align: middle;\n",
       "    }\n",
       "\n",
       "    .dataframe tbody tr th {\n",
       "        vertical-align: top;\n",
       "    }\n",
       "\n",
       "    .dataframe thead th {\n",
       "        text-align: right;\n",
       "    }\n",
       "</style>\n",
       "<table border=\"1\" class=\"dataframe\">\n",
       "  <thead>\n",
       "    <tr style=\"text-align: right;\">\n",
       "      <th></th>\n",
       "      <th>UserId</th>\n",
       "      <th>ProductId</th>\n",
       "      <th>Rating</th>\n",
       "      <th>Timestamp</th>\n",
       "    </tr>\n",
       "  </thead>\n",
       "  <tbody>\n",
       "    <tr>\n",
       "      <th>5</th>\n",
       "      <td>AKJHHD5VEH7VG</td>\n",
       "      <td>0762451459</td>\n",
       "      <td>5.0</td>\n",
       "      <td>1404518400</td>\n",
       "    </tr>\n",
       "    <tr>\n",
       "      <th>42</th>\n",
       "      <td>A22ZFXQE8AWPEP</td>\n",
       "      <td>1304482596</td>\n",
       "      <td>1.0</td>\n",
       "      <td>1383177600</td>\n",
       "    </tr>\n",
       "    <tr>\n",
       "      <th>47</th>\n",
       "      <td>A22ZFXQE8AWPEP</td>\n",
       "      <td>1304482685</td>\n",
       "      <td>1.0</td>\n",
       "      <td>1383177600</td>\n",
       "    </tr>\n",
       "    <tr>\n",
       "      <th>52</th>\n",
       "      <td>A22ZFXQE8AWPEP</td>\n",
       "      <td>1304495396</td>\n",
       "      <td>1.0</td>\n",
       "      <td>1384992000</td>\n",
       "    </tr>\n",
       "    <tr>\n",
       "      <th>61</th>\n",
       "      <td>A22ZFXQE8AWPEP</td>\n",
       "      <td>1304511111</td>\n",
       "      <td>1.0</td>\n",
       "      <td>1384992000</td>\n",
       "    </tr>\n",
       "    <tr>\n",
       "      <th>66</th>\n",
       "      <td>A22ZFXQE8AWPEP</td>\n",
       "      <td>1304511138</td>\n",
       "      <td>1.0</td>\n",
       "      <td>1384992000</td>\n",
       "    </tr>\n",
       "    <tr>\n",
       "      <th>86</th>\n",
       "      <td>A22ZFXQE8AWPEP</td>\n",
       "      <td>1304622665</td>\n",
       "      <td>1.0</td>\n",
       "      <td>1386028800</td>\n",
       "    </tr>\n",
       "    <tr>\n",
       "      <th>87</th>\n",
       "      <td>A22ZFXQE8AWPEP</td>\n",
       "      <td>1304624498</td>\n",
       "      <td>1.0</td>\n",
       "      <td>1385683200</td>\n",
       "    </tr>\n",
       "    <tr>\n",
       "      <th>92</th>\n",
       "      <td>A22ZFXQE8AWPEP</td>\n",
       "      <td>1304651029</td>\n",
       "      <td>1.0</td>\n",
       "      <td>1386028800</td>\n",
       "    </tr>\n",
       "    <tr>\n",
       "      <th>102</th>\n",
       "      <td>A22ZFXQE8AWPEP</td>\n",
       "      <td>130466578X</td>\n",
       "      <td>1.0</td>\n",
       "      <td>1386028800</td>\n",
       "    </tr>\n",
       "  </tbody>\n",
       "</table>\n",
       "</div>"
      ],
      "text/plain": [
       "             UserId   ProductId  Rating   Timestamp\n",
       "5     AKJHHD5VEH7VG  0762451459     5.0  1404518400\n",
       "42   A22ZFXQE8AWPEP  1304482596     1.0  1383177600\n",
       "47   A22ZFXQE8AWPEP  1304482685     1.0  1383177600\n",
       "52   A22ZFXQE8AWPEP  1304495396     1.0  1384992000\n",
       "61   A22ZFXQE8AWPEP  1304511111     1.0  1384992000\n",
       "66   A22ZFXQE8AWPEP  1304511138     1.0  1384992000\n",
       "86   A22ZFXQE8AWPEP  1304622665     1.0  1386028800\n",
       "87   A22ZFXQE8AWPEP  1304624498     1.0  1385683200\n",
       "92   A22ZFXQE8AWPEP  1304651029     1.0  1386028800\n",
       "102  A22ZFXQE8AWPEP  130466578X     1.0  1386028800"
      ]
     },
     "execution_count": 13,
     "metadata": {},
     "output_type": "execute_result"
    }
   ],
   "source": [
    "counts=df['UserId'].value_counts()\n",
    "df1=df[df['UserId'].isin(counts[counts>=50].index)]\n",
    "df1.head(10)"
   ]
  },
  {
   "cell_type": "code",
   "execution_count": 14,
   "id": "intense-princeton",
   "metadata": {},
   "outputs": [
    {
     "data": {
      "text/plain": [
       "(36684, 4)"
      ]
     },
     "execution_count": 14,
     "metadata": {},
     "output_type": "execute_result"
    }
   ],
   "source": [
    "df1.shape"
   ]
  },
  {
   "cell_type": "code",
   "execution_count": 15,
   "id": "limiting-kruger",
   "metadata": {},
   "outputs": [
    {
     "name": "stdout",
     "output_type": "stream",
     "text": [
      "Evaluating RMSE, MAE of algorithm SVD on 5 split(s).\n",
      "\n",
      "                  Fold 1  Fold 2  Fold 3  Fold 4  Fold 5  Mean    Std     \n",
      "RMSE (testset)    1.0389  1.0306  1.0692  1.0173  1.0312  1.0374  0.0173  \n",
      "MAE (testset)     0.7807  0.7820  0.7965  0.7746  0.7823  0.7832  0.0072  \n",
      "Fit time          4.03    3.64    3.95    2.46    2.10    3.24    0.80    \n",
      "Test time         0.08    0.10    0.05    0.05    0.04    0.06    0.02    \n"
     ]
    },
    {
     "data": {
      "text/plain": [
       "{'test_rmse': array([1.03893752, 1.0306327 , 1.06915199, 1.01728592, 1.03121505]),\n",
       " 'test_mae': array([0.78068287, 0.78202242, 0.79649626, 0.77459871, 0.78230388]),\n",
       " 'fit_time': (4.027680158615112,\n",
       "  3.6445417404174805,\n",
       "  3.950944662094116,\n",
       "  2.4639971256256104,\n",
       "  2.097883939743042),\n",
       " 'test_time': (0.0821685791015625,\n",
       "  0.10055923461914062,\n",
       "  0.05012941360473633,\n",
       "  0.05089426040649414,\n",
       "  0.03977513313293457)}"
      ]
     },
     "execution_count": 15,
     "metadata": {},
     "output_type": "execute_result"
    }
   ],
   "source": [
    "reader = Reader(rating_scale=(0.5,5))\n",
    "\n",
    "data = Dataset.load_from_df(df1[['UserId', 'ProductId', 'Rating']], reader)\n",
    "\n",
    "# SVD algorithm.\n",
    "algo = SVD()\n",
    "\n",
    "# Run 5-fold cross-validation\n",
    "\n",
    "cross_validate(algo, data, measures=['RMSE', 'MAE'], cv=5, verbose=True)"
   ]
  },
  {
   "cell_type": "markdown",
   "id": "changed-commonwealth",
   "metadata": {},
   "source": [
    "### Train and test set"
   ]
  },
  {
   "cell_type": "code",
   "execution_count": 16,
   "id": "occasional-apparel",
   "metadata": {},
   "outputs": [],
   "source": [
    "# Split the data into 75% / 25%\n",
    "trainset, testset = train_test_split(data, test_size=0.25)"
   ]
  },
  {
   "cell_type": "markdown",
   "id": "hawaiian-radar",
   "metadata": {},
   "source": [
    "### SVD Algorithm"
   ]
  },
  {
   "cell_type": "code",
   "execution_count": 125,
   "id": "fourth-evans",
   "metadata": {},
   "outputs": [
    {
     "name": "stdout",
     "output_type": "stream",
     "text": [
      "FCP:  0.3739\n",
      "• RMSE: 1.0340474791863994\n",
      "• MAE: 0.7825638050884295\n",
      "• MAPE: 0.3141485430890373\n",
      "• Adj R2: 0.1849140598750696\n",
      "• MSLE: 0.0684645917147121\n"
     ]
    }
   ],
   "source": [
    "# Run SVD algorithm\n",
    "algo=SVD()\n",
    "\n",
    "#Build the model\n",
    "algo.fit(trainset)\n",
    "prediction1=algo.test(testset)\n",
    "\n",
    "# Compute errors\n",
    "svd_prediction=np.array(prediction1)\n",
    "y_test=svd_prediction[:,2]\n",
    "y_pred=svd_prediction[:,3]\n",
    "\n",
    "accuracy.fcp(prediction1)\n",
    "print(\"• RMSE:\", mean_squared_error(y_test, y_pred, squared=False))\n",
    "print(\"• MAE:\", mean_absolute_error(y_test, y_pred))\n",
    "print(\"• MAPE:\", mean_absolute_percentage_error(y_test, y_pred))\n",
    "print(\"• Adj R2:\", r2_score(y_test, y_pred))\n",
    "print(\"• MSLE:\", mean_squared_log_error(y_test, y_pred))"
   ]
  },
  {
   "cell_type": "markdown",
   "id": "sufficient-toolbox",
   "metadata": {},
   "source": [
    "### Mean squared logarithmic error (MSLE) metric gives the model accuracy for SVD is 93.2%"
   ]
  },
  {
   "cell_type": "code",
   "execution_count": 18,
   "id": "awful-westminster",
   "metadata": {},
   "outputs": [
    {
     "data": {
      "image/png": "[encoded data removed]",
      "text/plain": [
       "<Figure size 432x288 with 1 Axes>"
      ]
     },
     "metadata": {
      "needs_background": "light"
     },
     "output_type": "display_data"
    }
   ],
   "source": [
    "plt.scatter(y_test, y_pred)\n",
    "plt.plot([y_test.min(), y_test.max()], [y_test.min(), y_test.max()], 'k--', 'lw=2',color='red')\n",
    "plt.title('Singular Value Decomposition')\n",
    "plt.xlabel('Predicted Values')\n",
    "plt.ylabel('Actual Values')\n",
    "plt.show()"
   ]
  },
  {
   "cell_type": "markdown",
   "id": "golden-family",
   "metadata": {},
   "source": [
    "### KNN Algorithm"
   ]
  },
  {
   "cell_type": "code",
   "execution_count": 126,
   "id": "prescription-consistency",
   "metadata": {},
   "outputs": [
    {
     "name": "stdout",
     "output_type": "stream",
     "text": [
      "Computing the msd similarity matrix...\n",
      "Done computing similarity matrix.\n",
      "FCP:  0.3429\n",
      "• RMSE: 1.187963113400014\n",
      "• MAE: 0.8980393758509226\n",
      "• Adj R2: -0.0757921059135711\n",
      "• MAPE: 0.36301352584308494\n",
      "• MSLE: 0.08909535766995158\n"
     ]
    }
   ],
   "source": [
    "# Run KNN algorithm\n",
    "knn=KNNBasic()\n",
    "\n",
    "# Build The model\n",
    "knn.fit(trainset)\n",
    "prediction2=knn.test(testset)\n",
    "\n",
    "\n",
    "# Compute errors\n",
    "knn_prediction=np.array(prediction2)\n",
    "y_test=knn_prediction[:,2]\n",
    "y_pred=knn_prediction[:,3]\n",
    "\n",
    "accuracy.fcp(prediction2)\n",
    "print(\"• RMSE:\", mean_squared_error(y_test, y_pred, squared=False))\n",
    "print(\"• MAE:\", mean_absolute_error(y_test, y_pred))\n",
    "print(\"• Adj R2:\", r2_score(y_test, y_pred))\n",
    "print(\"• MAPE:\", mean_absolute_percentage_error(y_test, y_pred))\n",
    "print(\"• MSLE:\", mean_squared_log_error(y_test, y_pred))"
   ]
  },
  {
   "cell_type": "markdown",
   "id": "decent-shipping",
   "metadata": {},
   "source": [
    "### Mean squared logarithmic error (MSLE) metric gives the model accuracy for KNN is 91.1%"
   ]
  },
  {
   "cell_type": "markdown",
   "id": "suspended-shirt",
   "metadata": {},
   "source": [
    "### KNNWithMeans Algorithm"
   ]
  },
  {
   "cell_type": "code",
   "execution_count": 20,
   "id": "handy-preparation",
   "metadata": {},
   "outputs": [
    {
     "name": "stdout",
     "output_type": "stream",
     "text": [
      "Estimating biases using als...\n",
      "Computing the pearson_baseline similarity matrix...\n",
      "Done computing similarity matrix.\n"
     ]
    },
    {
     "data": {
      "text/plain": [
       "Prediction(uid='A3BFDEBT5IV4UN', iid='B0030O3VRW', r_ui=5.0, est=3.606837606837607, details={'actual_k': 0, 'was_impossible': False})"
      ]
     },
     "execution_count": 20,
     "metadata": {},
     "output_type": "execute_result"
    }
   ],
   "source": [
    "knnw = KNNWithMeans(k=10, min_k=6, sim_options={'name': 'pearson_baseline', 'user_based': True})\n",
    "knnw.fit(trainset)\n",
    "\n",
    "# Evalute on test set\n",
    "kwm_pred = knnw.test(testset)\n",
    "kwm_pred[0]"
   ]
  },
  {
   "cell_type": "code",
   "execution_count": 128,
   "id": "responsible-backing",
   "metadata": {},
   "outputs": [
    {
     "name": "stdout",
     "output_type": "stream",
     "text": [
      "FCP:  0.2818\n",
      "• RMSE: 1.1067739568823827\n",
      "• MAE: 0.855272052766878\n",
      "• Adj R2: 0.06622916749850505\n",
      "• MAPE: 0.3470148610730839\n",
      "• MSLE: 0.07769498484673629\n"
     ]
    }
   ],
   "source": [
    "# compute error\n",
    "kwm_prediction=np.array(kwm_pred)\n",
    "y_test=kwm_prediction[:,2]\n",
    "y_pred=kwm_prediction[:,3]\n",
    "\n",
    "accuracy.fcp(kwm_pred)\n",
    "print(\"• RMSE:\", mean_squared_error(y_test, y_pred, squared=False))\n",
    "print(\"• MAE:\", mean_absolute_error(y_test, y_pred))\n",
    "print(\"• Adj R2:\", r2_score(y_test, y_pred))\n",
    "print(\"• MAPE:\", mean_absolute_percentage_error(y_test, y_pred))\n",
    "print(\"• MSLE:\", mean_squared_log_error(y_test, y_pred))"
   ]
  },
  {
   "cell_type": "markdown",
   "id": "liquid-albany",
   "metadata": {},
   "source": [
    "### Mean squared logarithmic error (MSLE) metric gives the model accuracy for KNNWithMeans is 92.3%"
   ]
  },
  {
   "cell_type": "code",
   "execution_count": 144,
   "id": "conservative-wichita",
   "metadata": {},
   "outputs": [],
   "source": [
    "def top_product(predictions, n=5):\n",
    "  \n",
    "    # map the predictions to each user.\n",
    "    top_p = defaultdict(list)\n",
    "    for uid, iid,r_ui, est,_ in predictions:\n",
    "        top_p[uid].append((iid, est))\n",
    "\n",
    "    # sort the predictions for each user and retrieve the k highest ones.\n",
    "    for uid, user_ratings in top_p.items():\n",
    "        user_ratings.sort(key=lambda x: x[1], reverse=True)\n",
    "        top_p[uid] = user_ratings[:n]\n",
    "\n",
    "    return top_p\n",
    "\n",
    "top_p = top_product(kwm_pred, n=5)"
   ]
  },
  {
   "cell_type": "markdown",
   "id": "technological-tanzania",
   "metadata": {},
   "source": [
    "### Recommend top 5 products for each user"
   ]
  },
  {
   "cell_type": "code",
   "execution_count": 145,
   "id": "actual-change",
   "metadata": {},
   "outputs": [
    {
     "name": "stdout",
     "output_type": "stream",
     "text": [
      "A3BFDEBT5IV4UN ['B005MIFELK', 'B000LLYFUE', 'B005MIFIW0', 'B005FCVY76', 'B005MIFI3E']\n",
      "A1WX42M589VAMQ ['B002CMLHF6', 'B00127C83M', 'B002N5MKM6', 'B002KDK42O', 'B002BX8QDW']\n",
      "A2VOGNBUMXSW13 ['B001AZLLG6', 'B0054PCP0O', 'B008D5HAHU', 'B0015XNAS0', 'B000052YM8']\n",
      "A324GIXX5SIYGA ['B0073B6JN6', 'B007UPKJAO', 'B007P7PQ8W', 'B002N5MKDA', 'B003901L92']\n",
      "ABDR6IJ93HFIO ['B00BB8ZHJE', 'B00GDLML02', 'B00HSNX1AS', 'B000EEQ83K', 'B003FBRVAS']\n",
      "A1X1CEGHTHMBL1 ['B0007YFQH6', 'B003VN1ING', 'B000BTL0OA', 'B00064BTEQ', 'B000GHVGSW']\n",
      "A2ILV6IPPW6W7I ['B0034BUQ42', 'B008EX6PL8', 'B00ADDD5E2', 'B00028PBBI', 'B000146LKS']\n",
      "A33AQPJYH7UUXR ['B000U26ZZM', 'B000050B6U', 'B000HCGAFK', 'B0009EILKS', 'B003DLPAA8']\n",
      "A2DPYMNI2HCIOI ['B0009VZHSA', 'B000X9WXSU', 'B00DRLBHYW', 'B003ALF6O6', 'B001RIRIKE']\n",
      "A2V92F5R7MLCVI ['B00AE07FUE', 'B00G0K6ZQC', 'B006RFZ81S', 'B00A0IWRT4', 'B009FKNGRA']\n",
      "AANHR0DB9SZ80 ['B00009OL71', 'B003156OF6', 'B003YCAQDC', 'B00B8Z2LRQ', 'B000OFB5QO']\n",
      "AC1UO4XW14D6W ['B0000YUX4O', 'B007CDSFKU', 'B0018HH444', 'B0084HCIHY', 'B00028MLG6']\n",
      "ATP9UWWX2SHGU ['B0069UMCQU', 'B008GO5JAI', 'B005UCWZ1U', 'B00CBYAP0S', 'B00DL4PVYW']\n",
      "A5JLAU2ARJ0BO ['B000FCHTCK', 'B0002TUWXY', 'B00008BO73', 'B00006B12C', 'B0000AN42F']\n",
      "A2VPPEVTCQ922W ['B000E7YJYC', 'B000C1UF3Y', 'B002Z7FVC8', 'B00883WGVC', 'B000JLEXVC']\n",
      "AY3D7DG5L5WCK ['B00A0J09C0', 'B009FKNGRA', 'B00GTC0DYQ', 'B00AO4EBOI', 'B00GTBZ85Q']\n",
      "A1Q1Z7IR79G52A ['B00DOOA6UI', 'B00L2KVF9W', 'B00IIB82FS', 'B00KTP8Q1G', 'B00KH6F6TM']\n",
      "A100WO06OQR8BQ ['B00002EQCW', 'B00007CW52', 'B000EGJTL6', 'B00004TDRH', 'B00GTC1FFW']\n",
      "AGHZXQL9F94T9 ['B0007XO79A', 'B00005NVPW', 'B000069BJ9', 'B00007M5VP', 'B0002OD3JY']\n",
      "A2S26YGSVXBCFL ['B009FKNGRA', 'B00AO379NE', 'B00AE07FXQ', 'B0009GZSSO', 'B009YSSLAU']\n",
      "A3CTOYWB73TMM0 ['B001MV5TX4', 'B000AO2NXS', 'B002BW3LT2', 'B004SU88CU', 'B0033PSM3G']\n",
      "A2V5R832QCSOMX ['B00027D0DU', 'B00F4VWXO6', 'B0006SFXXK', 'B0010EPQ9U', 'B0072XT8BA']\n",
      "A680RUE1FDO8B ['B000GBVA34', 'B0000AJ3MV', 'B000AA2IC8', 'B000DZH4D8', 'B000EITTLE']\n",
      "AZ9JPUSCI0V49 ['B004LY4OTE', 'B00FMBZ68S', 'B00AREI3S0', 'B00BN7KJYQ', 'B0086UO8AO']\n",
      "A22CW0ZHY3NJH8 ['B005TI7L7I', 'B000AO2NXS', 'B00A0IWSN4', 'B007RTR8UM', 'B00604MSSC']\n",
      "A2FQZKL2KIZACO ['B005Q8QKLY', 'B001VD078K', 'B004RYD2CI', 'B004RPE38Y', 'B004AGM47C']\n",
      "AH59DZ5AXO8PR ['B0041OUGF0', 'B0034KYDRE', 'B005X2F7KI', 'B0090ELFRO', 'B000O3OZD6']\n",
      "A89ZZKNDFQH23 ['B00604MSSC', 'B00GYB17P6', 'B00I6CRX04', 'B00639DLV2', 'B00GTC1JVM']\n",
      "AEC90GPFKLAAW ['B00GTBZI6A', 'B00A0IWRT4', 'B00AHF1GK6', 'B00AE07FUO', 'B006L6A9NK']\n",
      "AMLLGCP82ZO7C ['B005JLLG8U', 'B00469CIMO', 'B005WTYEYW', 'B003VMVBVG', 'B00CNXJND2']\n",
      "A1EF37KYK7PRLV ['B003JBEXNW', 'B001B1W2DU', 'B000QV2XRQ', 'B005QZXCWC', 'B000KWQ20K']\n",
      "A25HBO5V8S8SEA ['B00004SCKA', 'B00006BAW0', 'B0000DK3I4', 'B00006HW3P', 'B000098XCT']\n",
      "A22ZFXQE8AWPEP ['1304482596', 'B005OU4J6C', 'B000UJHFWC', 'B0031B51Y0', 'B000KI65M4']\n",
      "A1P1O16N3ROSUY ['B002LA1D9Y', 'B008J7HPTU', 'B00BRXTM7Q', 'B00BSPVDE8', 'B00028OT9I']\n",
      "A2P739KOM4U5JB ['B001ECQ4JE', 'B00GTC02LA', 'B00GTBZWPW', 'B007RTR8T8', 'B009ZRFJFA']\n",
      "AI0131QZO047J ['B003VMFITM', 'B004XJNQXW', 'B0081A1UDM', 'B0017ZDH52', 'B007U8R0D0']\n",
      "A3S8D4BMVASTF9 ['B004675EI6', 'B0069FDR96', 'B005C1C02S', 'B009L0YD6M', 'B00882ZPTS']\n",
      "A2SSV6KM3W1VFD ['B001OMI93S', 'B00AWLBACE', 'B00AO4E9MC', 'B000K7E2G6', 'B000AO2NXS']\n",
      "A281NPSIMI1C2R ['B0041TBQMW', 'B000225ZL0', 'B0000535UN', 'B0098JU8T2', 'B00012NEYG']\n",
      "A2DA2NJZ2RIYAB ['B005TI7NQ2', 'B00AE07CTI', 'B007JT7AGC', 'B00AWLBAE2', 'B001T8MN16']\n",
      "A1QV5IH6HDRN0L ['B000AA5VVI', 'B003DT75W6', 'B0047WLAE2', 'B00A4CNZXI', 'B00AAHL2H8']\n",
      "A2CL818RN52NWN ['B000BI2180', 'B00006HMD8', 'B0002HVIBG', 'B0007VMROE', 'B000FOVTDS']\n",
      "A2BGZ52M908MJY ['B00004TLP9', 'B00004S5H9', 'B00004VUM1', 'B00004ZCEX', 'B00004ZCC2']\n",
      "A1RRMZKOMZ2M7J ['B001D1WUNK', 'B000C20ZY2', 'B000C1W4RE', 'B000ETIZCM', 'B001MYLLSI']\n",
      "A2R6RA8FRBS608 ['B00065DGNC', 'B000067VBL', 'B00006IW1X', 'B0000ZHGZ2', 'B0009RKL5S']\n",
      "A5A3C6XVDYUND ['B00021C1LI', 'B00023KDAW', 'B0056GDG90', 'B00FRDPMQC', 'B00GNAA2J0']\n",
      "A3N3ZTC5LDWDWD ['B005DU5MY6', 'B008WMMZVK', 'B00CHA2QOE', 'B008UAXKPO', 'B006OMHTCK']\n",
      "A2OTGX253O4J4D ['B001GIOV82', 'B001JQLNNC', 'B002DPUY56', 'B003LA90RU', 'B0015G9EGY']\n",
      "A1ODOGXEYECQQ8 ['B00GTC0E1I', 'B00G4900RO', 'B001FSK8SA', 'B0001F22PA', 'B00IFVHJBO']\n",
      "A3EPHBMU07LZ50 ['B00AO4E9MC', 'B00AE07FQI', 'B0002FCD5I', 'B00BB8ZIQQ', 'B000P1S0N8']\n",
      "A3FWVV13DJELLV ['B0072XUY7W', 'B008D5I61Y', 'B00HM6IV6K', 'B00GYB107Q', 'B00HSNWXV6']\n",
      "AA1JJNJ5VYI97 ['B0046VGPHQ', 'B00ARX8GGA', 'B003EN4T2U', 'B0018SAJAY', 'B004C1VIPY']\n",
      "A1ZGHA3IJV01BK ['B000LZMTBC', 'B000H7FXAS', 'B00GTBZNP6', 'B00GYB17TC', 'B00106AC06']\n",
      "A1989WJVG7DHBK ['B003OGZC2S', 'B0034E4YEC', 'B0048ZKELI', 'B001E96PIC', 'B00CNG149U']\n",
      "A26EQ8U96JA92T ['B00A0J084Y', 'B00023KG40', 'B000GE0D0M', 'B002LDZQTY', 'B003V808ZA']\n",
      "A2CZ98V784SRJ0 ['B00ALV8EJM', 'B00ALV8EJW', 'B00BRXTM7Q', 'B006FJMPZS', 'B00AREI3S0']\n",
      "AIIR8E34EDKCQ ['B004799QZA', 'B00013YYS0', 'B0043OYFKU', 'B000TV9RW2', 'B00021W26M']\n",
      "A3094EPI56GKZ6 ['B006L6AA8Y', 'B009RNUH7M', 'B00HM6IV6K', 'B00AWLBAE2', 'B00CHJDSUG']\n",
      "A12DLJESJKM1OQ ['B00008J6VW', 'B000087LII', 'B000088USW', 'B00008OE6I', 'B00008OE5I']\n",
      "AWPODHOB4GFWL ['B004GIM68G', 'B002VLZHLI', 'B00EA4MHN0', 'B009G0E9CK', 'B00GCQMSVA']\n",
      "A3E5V5TSTAY3R9 ['B007D1G76K', 'B00DAXELNG', 'B00IBQ7N3M', 'B0006LMUXS', 'B00021CD3O']\n",
      "A1M1Y5UGONAW06 ['B00GYB17P6', 'B00HSNX1AS', 'B0055MYJ0U', 'B008QMWPKM', 'B00F008GFQ']\n",
      "A1PI8VBCXXSGC7 ['B00DCNBST4', 'B005LD5EHA', 'B00DG7YJQA', 'B00GLS593S', 'B0030DK7E8']\n",
      "A17W4YG9W016T1 ['B002BWOXWG', 'B006835BZW', 'B0000532QT', 'B000052ZB2', 'B00AZQLPNU']\n",
      "A2OCDK0BOW6UCY ['B00AE07FUE', 'B000E0K7NQ', 'B00GTC1HCI', 'B002MO780W', 'B000NXKA22']\n",
      "A2YKWYC3WQJX5J ['B00AWLBAE2', 'B006L6A06Q', 'B002TSA916', 'B00JX979CQ', 'B000AMBF5W']\n",
      "A2SH7OWE8QJYNC ['B0009OAIHC', 'B0002PFBN4', 'B002D48QRU', 'B002YK54XC', 'B000C1Z8F4']\n",
      "ARYSDAZNRXN6G ['B007OWPBW4', 'B005P9U5NS', 'B0086ZJ41W', 'B002WDXCX0', 'B000E7WH6Y']\n",
      "A34BZM6S9L7QI4 ['B0072XUY7W', 'B00AE07BMQ', 'B00AWLB9G6', 'B00AE0790U', 'B00AE07EGO']\n",
      "A3U5RYD678A4LL ['B00EVZUEW4', 'B002OTCU8K', 'B00E577S54', 'B00429O3EY', 'B00752ZKQK']\n",
      "A3M174IC0VXOS2 ['B00GUTLC0C', 'B001OMI93S', 'B00GTC0IY6', 'B000DIN3A8', 'B00062A0JI']\n",
      "ACJT8MUC0LRF0 ['B008VSYO5A', 'B001ECQ4OY', 'B005TI7NQ2', 'B001ECQ55M', 'B00GBMTWDC']\n",
      "AQIJ3ZEEVCIKU ['B005TI7NPI', 'B00A0J084Y', 'B005TI7L7I', 'B001ECQ4JE', 'B00A0J09G6']\n",
      "A1DH3QDZX8Z7GO ['B007RTR8A2', 'B00AWLB9I4', 'B00GTC03AU', 'B00005NIMJ', 'B00005T3Y8']\n",
      "A8O12DCHIADYU ['B00563CM5M', 'B0007CXBD4', 'B009MP8FBU', 'B00BJ9W1GW', 'B000EIKGTS']\n",
      "A231WM2Z2JL0U3 ['B000051123', 'B00001YVG4', 'B00005Y1Z6', 'B0000CEOYI', 'B00004Y7CF']\n",
      "A2LW5AL0KQ9P1M ['B005FPN0I4', 'B0060R07C8', 'B008CNGNK8', 'B00A0J09C0', 'B00HSNWXVQ']\n",
      "A3OXHLG6DIBRW8 ['B001ECQ4OY', 'B00AE07CTI', 'B0007UQNOA', 'B00006OX6B', 'B000067VBL']\n",
      "A3FA78E0G3G4GQ ['B001TVURZW', 'B0013OHS48', 'B002LA27Q2', 'B003TX0BX6', 'B007HU1T4W']\n",
      "A1Z54EM24Y40LL ['B001E96NYS', 'B00GTBZWPW', 'B00EYZY684', 'B001FWXJ4G', 'B0030GFY02']\n",
      "A1M04H40ZVGWVG ['B00CMGP05U', 'B000VYSTJ4', 'B001E3CZOQ', 'B009E8Q7HY', 'B00DZZ6HKY']\n",
      "A1BS22O15EOQ9S ['B000VBDWQC', 'B000GDDKIU', 'B005EIIAPA', 'B009GIOVKC', 'B003UH0528']\n",
      "A3RHPBNP2N9RJB ['B006T8BWOA', 'B000A409J8', 'B0046DZQDS', 'B001S48HLG', 'B003QUHWT8']\n",
      "A2H76V7TTCZ4KV ['B001ET737O', 'B000R8QU54', 'B002OIFOBG', 'B001M00R7S', 'B002617YQO']\n",
      "A2AEZQ3DGBBLPR ['B00000J3NG', 'B0000DF2LT', 'B00005AKV3', 'B00001OPK2', 'B00006BSTP']\n",
      "AG05BT5GLNYLZ ['B00538TSMU', 'B006T9BBM2', 'B008FOT6U8', 'B008X5C8BI', 'B006U98T08']\n",
      "A3LJLRIZL38GG3 ['B005EFYXLI', 'B00853ES7K', 'B00BDH753O', 'B009WI3RZQ', 'B001HKZTV2']\n",
      "A31RULW0KNYJ5H ['B00A0J09G6', 'B00DCNBST4', 'B00604MSSC', 'B00AHF1GK6', 'B00GTC1HCI']\n",
      "A1IU7S4HCK1XK0 ['B003I6MLN2', 'B000FL4410', 'B000031KIM', 'B00I6CRX04', 'B0002ZAEYA']\n",
      "A2WZNM833CJH82 ['B004GIM68G', 'B005TI7NQ2', 'B00604MSSC', 'B000E0K7NQ', 'B00IRBY2R6']\n",
      "A1W31W7O8D5EW ['B001189I3A', 'B00B7UUTTE', 'B00A51LI1O', 'B0019IC2N0', 'B000P8DLF8']\n",
      "A1X6PD8QYKIJHZ ['B003WRLIUE', 'B001ZD1KZK', 'B00544T1PW', 'B0080676NU', 'B004GC2LLE']\n",
      "A1MI1I73Z5J9MI ['B0014C6PPW', 'B000H3CPO4', 'B003JQL448', 'B004QFBN2Y', 'B005D0R2YY']\n",
      "AHN86VFJIJ2JP ['B000AEERFA', 'B000GFPTQY', 'B008F5G6AA', 'B00C30IRZK', 'B002IJT6Q0']\n",
      "A3V6Z4RCDGRC44 ['B001D0ACUE', 'B002VA4FXU', 'B000EBZ7XK', 'B0000530G6', 'B008CT12G2']\n",
      "A3T4OHEAHOJ700 ['B003V21WO2', 'B0007QN874', 'B00016L0VQ', 'B0007RA6NC', 'B00243FOGG']\n",
      "A1047EDJ84IMAS ['B003VMM74Q', 'B003X4I7HS', 'B00AQX87M4', 'B00188IFHS', 'B0063TFLG0']\n",
      "A2C58G8O40YC7T ['B000V193RE', 'B004FK22UW', 'B00005UFET', 'B0007CXYXG', 'B0009WY4UQ']\n",
      "A21936E2ZRY72J ['B0059U4AQ6', 'B003NV9R2U', 'B0050IPZWK', 'B00D7HYW0W', 'B003NTWG2K']\n",
      "A35LT14WG5BX0T ['B00A0J09C0', 'B0068G8DTA', 'B00ATY942M', 'B00AWLB9G6', 'B00AE0790U']\n",
      "A1YVJ2CLK0L2WR ['B004A7OVBI', 'B00021DJ32', 'B005OZFV50', 'B004OE9RO8', 'B0017U10SI']\n",
      "A3CG93783LP0FO ['B00DD94A4W', 'B00005T3KY', 'B000HPAKB2', 'B00390TNVU', 'B000068V7A']\n",
      "A11KZ906QD08C5 ['B000629GES', 'B00065ANYW', 'B00006I53S', 'B0000BVYTV', 'B0007XDI54']\n",
      "A2YW1MG1GKU8XD ['B0063A432W', 'B00AWLB9G6', 'B00I49QWPG', 'B00157BYP2', 'B009FKNGRA']\n",
      "A1GT3775JP80UF ['B0018BTA2Y', 'B006OZF4KG', 'B007L85LAS', 'B008MPCLSE', 'B00770JW9Q']\n",
      "A10Y59HW4O47N0 ['B00187PWDY', 'B00021VTXY', 'B00132CL3S', 'B000CEQZZS', 'B000Z4SLZC']\n",
      "A1TPW86OHXTXFC ['B0030IMV9W', 'B009L12ST0', 'B00660BB3I', 'B00HHAW48W', 'B008XWYBF2']\n",
      "A1APERZNMEU8PW ['B005OZF1S2', 'B004HYLRA2', 'B004R6CAGU', 'B004ZZXPEY', 'B004MO7Z12']\n",
      "AZ26CDSJ363AH ['B000CQYN2I', 'B000L8LQY0', 'B008BDOR84', 'B000FVZC5C', 'B0000632EE']\n",
      "AGEKVD8JPZQMT ['B005TI7NQW', 'B00006HWX4', 'B0009JMUH8', 'B005TI7NPI', 'B007JT7AGC']\n",
      "A25C2M3QF9G7OQ ['B007JT7AGC', 'B00GTBZHUW', 'B007RTR8A2', 'B009FKNGRA', 'B00AAIOP44']\n",
      "A2GJX2KCUSR0EI ['B0030HKJ8I', 'B000Z61SKU', 'B001B1831U', 'B00CGR26B6', 'B0002FBOLW']\n",
      "AKT8TGIT6VVZ5 ['B0007Y794O', 'B000E0K7NQ', 'B007JT7AIA', 'B00007LKHY', 'B000BY52NK']\n",
      "A2MUGFV2TDQ47K ['B008U2Y9BQ', 'B00AWLB9I4', 'B00CP0R5LK', 'B005EKIN9Q', 'B008X02IGI']\n",
      "A2ZY49IDE6TY5I ['B00604MSSC', 'B007JT7AGC', 'B0010LIYNS', 'B003981CQQ', 'B001U5XJXE']\n",
      "A12DQZKRKTNF5E ['B0039NMCPG', 'B002VWL2AM', 'B00005T3Q2', 'B000KOHSQA', 'B004Y9GV60']\n",
      "AYOMAHLWRQHUG ['B00A0IWRUI', 'B00A0IWRRG', 'B0051PHUXY', 'B0071EZDTG', 'B005KW8K00']\n",
      "A3KEZLJ59C1JVH ['B0091XL4B6', 'B001Q51NOU', 'B001KYRYZ4', 'B006Z7C9AQ', 'B00983N5C0']\n",
      "A30YBYLNRPOEG2 ['B000YFFZ0G', 'B008MB1X4G', 'B001PPMLS8', 'B003L8RVZ0', 'B002QFMJU6']\n",
      "A1RVM6W2YI7568 ['B005ZDFV10', 'B000ZLZ7WK', 'B001MA2BU4', 'B000LPJASC', 'B000PSTJ4K']\n",
      "A2Y4S4CNGKF21S ['B000XTBEYO', 'B004OFII2E', 'B004VMGT2Q', 'B0068J5K52', 'B00731Y870']\n",
      "A1Q3W2FX8LKH19 ['B00479FTD8', 'B0041POL64', 'B0000531YI', 'B005BVQBAG', 'B00FZDW06Y']\n",
      "A2KUUIJ52MWDAS ['B000ZV0BU8', 'B002VH64KA', 'B003156NHU', 'B000GUZ8HY', 'B004D268RA']\n",
      "A1GYEGLX3P2Y7P ['B007RTR9FQ', 'B000F0QCWA', 'B0017PUPMK', 'B001F51TTA', 'B0002Z8QG8']\n",
      "A1ITRGMT80D5TK ['B005TI7NPI', 'B005TI7NQW', 'B00AO4EBOI', 'B00BB8ZIQQ', 'B00AE07IEM']\n",
      "AE91PZDT0F9WO ['B006U28L2Q', 'B00CNFP3T8', 'B006MK5UFW', 'B002835Z8E', 'B003DQAGMU']\n",
      "A2B7BUH8834Y6M ['B00006D2RM', 'B0000AKVHF', 'B000BQ7GW8', 'B00CBD0M8Y', 'B00009R6WO']\n",
      "A376OJHLE6SU9Q ['B00GTC02LA', 'B00ALV8EKQ', 'B00A0IWTEW', 'B005TI7NQW', 'B0002XQJFA']\n",
      "A29M09QBG9TZLP ['B00A0IWRT4', 'B00AO4EBOI', 'B004DBXKS6', 'B002CMLH6U', 'B0017K45PS']\n",
      "A2PXXYVFB3HD6O ['B000H88QLK', 'B001ET7M84', 'B008YFVM5K', 'B00FYW3RY0', 'B006UR2B36']\n",
      "A12PH6L5QSVTYN ['B001DJ15KG', 'B000VHCGMM', 'B0054Y6DVM', 'B000WGM4VK', 'B00781ZSV0']\n",
      "AFHYEO3Y1IIDD ['B000AQF50Y', 'B002Q6UK9M', 'B00ID8H16W', 'B003V21WO2', 'B00BB8ZHIU']\n",
      "ALNFHVS3SC4FV ['B006L6AA8Y', 'B00A0J09G6', 'B006L6A06Q', 'B00AO4EBOI', 'B00AWLB9G6']\n",
      "A1P2XYD265YE21 ['B000AO2NXS', 'B00A0IWRU8', 'B009VGNYFM', 'B00AE07EGO', 'B000YZGOZQ']\n",
      "AK7CAW3N1XZV6 ['B001FB5IDW', 'B006WVCCRA', 'B00ID8H51S', 'B001FB5IQY', 'B000W7PKU6']\n",
      "ALQGOMOY1F5X9 ['B00375VPRW', 'B0011DNX9K', 'B001BDGJ7I', 'B006ILBK1S', 'B000OA69IS']\n",
      "A1QTICTBQKS6I6 ['B003FXE6VI', 'B0006ZHCK0', 'B000AL8JKW', 'B001DKQ3O8', 'B0055Y9AIY']\n",
      "A2K7V3G4598QRF ['B00AWR9CUU', 'B005TI7L6O', 'B00604MRNI', 'B001821EW2', 'B006CWW9YU']\n",
      "A21VGNU5959O85 ['B000H2HVLC', 'B000FOG8LQ', 'B003Y5ZB2K', 'B006L6A9NK', 'B0072XUY7W']\n",
      "A3QNV9LUNM589P ['B0012RUL40', 'B000052YMR', 'B00068CG3U', 'B00880WJ8U', 'B003FXE6VI']\n",
      "A3R9H6OKZHHRJD ['B00AO4E9MC', 'B001A9GMSY', 'B0016O92XU', 'B001MF67VI', 'B0012H7QPM']\n",
      "A3K7I9EGDHAGU4 ['B00H93NJLS', 'B006JA7N3M', 'B00IDWP4IA', 'B001TBH4ZI', 'B004DAS4QK']\n",
      "A1T61QP7QHYBRQ ['B00A0J09C0', 'B00A0J084Y', 'B00AE0790U', 'B001LF4I8I', 'B001EWETAK']\n",
      "A2ZKQC0XCIIAEM ['B00HM6IV6K', 'B000E0K7NQ', 'B00A0J084Y', 'B005TI7NQW', 'B006L6AA8Y']\n",
      "A1F9Z42CFF9IAY ['B000621N26', 'B000083JZ0', 'B000I1YIDQ', 'B0012134EK', 'B0001I91JM']\n",
      "A3EXWV8FNSSFL6 ['B00IDWP4IA', 'B0000BZL1P', 'B00GLS58SO', 'B00GLS593S', 'B000GBN42E']\n",
      "A22S7D0LP8GRDH ['B00A0IWRRG', 'B00HM6K6XQ', 'B0034F9KEU', 'B00AE07CRA', 'B00GTBZNP6']\n",
      "A2S7YBFPZX1IGQ ['B006LLSXLU', 'B0000530O9', 'B000MZX6QI', 'B000GHWUQ4', 'B005SK7YYC']\n",
      "AT6CZDCP4TRGA ['B000069E1H', 'B00006BMQS', 'B0001WNKBI', 'B0000D1E04', 'B000167KWY']\n",
      "A3TYR1ALBZ2EU9 ['B007L86026', 'B004Y9LO1M', 'B00A76CPUA', 'B00027EG9C', 'B003I6MLN2']\n",
      "A2CHH5P055A0KL ['B004BD9152', 'B00027D8IC', 'B0000632EN', 'B007SA3CD2', 'B006GQSH0C']\n",
      "A17V9XL4CWTQ6G ['B007RTR8UW', 'B000Q7UKC0', 'B004MBJKRC', 'B00BB8ZHIU', 'B000FL4410']\n",
      "A3QKHGW0O8FULN ['B007TNEMXC', 'B007TOAMZI', 'B002MKMSU6', 'B0095JL0SI', 'B0095IVWP0']\n",
      "A1N8D6BZHP8P73 ['B00ARX9X6M', 'B00AZH24E8', 'B009D7V4WO', 'B004ICVLWW', 'B00DPU6ZAG']\n",
      "A7Y6AVS576M03 ['B000AJIF4E', 'B004HKKJWI', 'B00005T3DP', 'B003GU09PC', 'B000GW5J58']\n",
      "A3GA09FYFKL4EY ['B002L6NZHG', 'B00DU6VY3S', 'B00G0NLXPM', 'B0043TUSME', 'B008CT12G2']\n",
      "A1VUGUKWX4B808 ['B000C1Z6TC', 'B00AUV77TG', 'B00ARX98R6', 'B00AUV9GH2', 'B005FFVATK']\n",
      "A13JU88JAHN72I ['B004BCVAOI', 'B007LANY2S', 'B0046ZHQAW', 'B001KYNW2I', 'B004TSFE28']\n",
      "A22QOZZLLIMW6I ['B009NCM6JY', 'B00GY1V2X8', 'B00A2C6DRA', 'B007Y7NWCK', 'B0098T1OFE']\n",
      "AT28RL25Q2OLK ['B00GTBZHUW', 'B007A592HU', 'B00GTC1FFW', 'B0072XT8BA', 'B00F6P3DTO']\n",
      "AAEVYY0PHQUUL ['B005R3UYEW', 'B0061YRVMO', 'B002SWAFVM', 'B003CGYUH8', 'B005X2F7JY']\n",
      "A11I1I9QLMAM1A ['B00A0J084Y', 'B00AO4E9MC', 'B005TI7NQ2', 'B00AE07B9O', 'B00AE07FUE']\n",
      "ADS5APY1NKTL4 ['B00AHF1GTM', 'B000GCQZX8', 'B0000AJ3PU', 'B00099E8ZA', 'B000BRY5UI']\n",
      "A1APT9S64ARZYX ['B000ME2YWG', 'B002FQKKBQ', 'B005G9LPAY', 'B0012J30LY', 'B001UREIFU']\n",
      "A1X64HF17UU8TX ['B000AADG8I', 'B004TSFE6Y', 'B004GRLJ12', 'B000I5MJ8S', 'B004JLEGM4']\n",
      "A3315AAN855HYG ['B000SI2T0S', 'B00122CP30', 'B004X8K0UK', 'B0002Z8QG8', 'B00008ZPG9']\n",
      "APVEFBIJPTYWU ['B0014UAHQW', 'B000WHYB1A', 'B003I4BCXE', 'B000MAQWA0', 'B0049J7P3S']\n",
      "A2JR5ZTSYSIQYX ['B0039OVDJ6', 'B003J48F3I', 'B0081CWUD4', 'B003N4OHJK', 'B00H3R7MZ4']\n",
      "A19UTUEBWKIZFT ['B00AE07BMQ', 'B00AE07GX0', 'B00ATY942M', 'B000E0K7NQ', 'B00AE07FXQ']\n",
      "A1UQBFCERIP7VJ ['B000E0K7NQ', 'B00DCNBST4', 'B00AO4E9MC', 'B009YSSLAU', 'B00A0IWTDI']\n",
      "A2065HBMYDXJ1S ['B007JT7AIK', 'B00A0IWTEW', 'B00A0IWT9C', 'B0040H00PE', 'B0018BTA2Y']\n",
      "A1R1BFJCMWX0Y3 ['B000DZDNOM', 'B00143UYPS', 'B003AXJNGQ', 'B000QFCQCO', 'B001ET7BL2']\n",
      "A34QKW1Y84EHIT ['B002TMUKO8', 'B003XWLH36', 'B004LV82JU', 'B003CTU5MO', 'B00FN3EIS4']\n",
      "AENH50GW3OKDA ['B00CEK81YQ', 'B000NG90RK', 'B004Q27KRO', 'B004Y7WSZ0', 'B000U52T9K']\n",
      "A1UMSB7LAW0RIR ['B00008XOMX', 'B000P9DRZQ', 'B0033RWF6Y', 'B00AE07B9O', 'B00AE07BDU']\n",
      "A14E70DKB6QPZY ['B004675EI6', 'B002PBLH3Q', 'B000FRWNL2', 'B000C1Z29Q', 'B0030O3VRW']\n",
      "A1YLLARX683DKC ['B004675EI6', 'B004ISB3BK', 'B004U89ASG', 'B002ZTT9II', 'B0049E7984']\n",
      "A2I5QH4F5FDKK5 ['B00GTC0E1I', 'B00GTC02LA', 'B00CP0R5LK', 'B000YZLP4Q', 'B00HM6IV6K']\n",
      "A1X5VVJP78U81E ['B005EII0QO', 'B0046BTAI2', 'B006OZF4KG', 'B0037MQIT0', 'B006RFZ8NG']\n",
      "AOEUN9718KVRD ['B00ATY942M', 'B006RFZ8NG', 'B00GTC1HCI', 'B005TI7NQW', 'B00A0IWTEW']\n",
      "A28IBOLVCSQRLQ ['B00428EJXU', 'B005X2F7JY', 'B005HO0A18', 'B000TBW0NA', 'B0064EJ44O']\n",
      "A2D1LPEUCTNT8X ['B0001HMFIC', 'B008AJ6FCK', 'B00AYARK2C', 'B002QZXIPQ', 'B001U2KP8Y']\n",
      "AHYPRXI7F5QXS ['B005FHOT6O', 'B001KYVJB4', 'B003GYVTI4', 'B001T8W5LO', 'B001KYOHFE']\n",
      "A2X3L31KCXBHCL ['B00AE07BI0', 'B00FMBB3EY', 'B00005BMSN', 'B00AWLB9I4', 'B00AE07FQI']\n",
      "AJ0LVMSVJ0CN1 ['B000I20Q72', 'B00005NASR', 'B006HTNOHY', 'B000CECSAO', 'B000BPG4SG']\n",
      "A110PQTEI6THU7 ['B002KNN9EY', 'B005DL2A8G', 'B00401U8AC', 'B00401T0RY', 'B0007CXWQA']\n",
      "A1VYFEJM12ZP11 ['B000ETXOC8', 'B00AO379NE', 'B0020122ZS', 'B007JT7AIA', 'B007JT7AIK']\n",
      "A6FIAB28IS79 ['B0002FHENE', 'B00008NJEP', 'B00081S0YY', 'B001E96MM6', 'B0007N55NC']\n",
      "AJRFZ0VZ0LD26 ['B007JT7AGC', 'B00A0IWT9C', 'B00AO4EBOI', 'B0072XR560', 'B004LUZ956']\n",
      "A19KOAGQJUXL18 ['B0085YKFCG', 'B000MT1GHA', 'B001T8FRQO', 'B00FWACSLC', 'B0089MMN2O']\n",
      "A18JF0T0GOCORW ['B00KLZO2JE', 'B00IJZJ9K0', 'B00J5D8BY0', 'B00JC77VEK', 'B00KDOV8DG']\n",
      "A20F84KUBWM88B ['B004Y9JURC', 'B001KYNZGG', 'B000L9FBTA', 'B000052YP6', 'B007ZRXYK4']\n",
      "A38KK0SZYEH5UD ['B004INUY06', 'B000ULJN9S', 'B00EYZY5VC', 'B00EYZY6LQ', 'B007RTR9FQ']\n",
      "A3R5GTYQ50QVMD ['B00AN5L8PS', 'B00AO4EL34', 'B00GYB17TC', 'B00AAIOP44', 'B00CP0R5LK']\n",
      "A2ZHH7AK83JB5G ['B00G0K6ZQC', 'B001ECQ5CA', 'B00GNA9W4G', 'B006L6A9NK', 'B00F5KDZ4S']\n",
      "A2USMIT2CSA08 ['B009YSTOAG', 'B003SZ23RC', 'B004ARV3GY', 'B00A2Y6PG2', 'B008BUALOQ']\n",
      "A112TFLXGBF6NI ['B005UH60FM', 'B001DHI0R4', 'B005DKKIDG', 'B0096Y6MT4', 'B007QYWGC8']\n",
      "A10G136JEISLVR ['B0009R14NG', 'B009VHVWAK', 'B004ZGAOCE', 'B00658N04Y', 'B0038TVH34']\n",
      "A174X51AGFWAMW ['B000KNHJ5G', 'B005D1W54U', 'B00IXYI0XO', 'B000PHZ7SS', 'B00125XAJA']\n",
      "A3LGT6UZL99IW1 ['B00009XVA3', 'B00LLPT4HI', 'B00HSNWZKU', 'B00006I53X', 'B006BNFXHU']\n",
      "A2YB7DLC3FOR7W ['B003V265QW', 'B00AO4EBOI', 'B0095BWGIE', 'B005TI7LHS', 'B00006I53D']\n",
      "A2K5AFTU4YOPPW ['B000S97MAY', 'B002HEW7Z8', 'B002WJOOIQ', 'B000QUM5LG', 'B0002CTSRM']\n",
      "A250AXLRBVYKB4 ['B0030GFY02', 'B0002VAQR4', 'B00005LEN4', 'B0009RFAPY', 'B00004Z5M1']\n",
      "A2GA55P7WGHJCP ['B008CC4I5Q', 'B00ESYBV34', 'B002PBAJ4Y', 'B000652M6Y', 'B009RNUH8G']\n",
      "A3U029B8Z5WGI2 ['B00AE0790U', 'B004JVXXXM', 'B00GTC1FFW', 'B002VAZINQ', 'B0000AAAPF']\n",
      "AKMEY1BSHSDG7 ['B00AWLB9I4', 'B00AE07GX0', 'B002MO3CG6', 'B00AWLB9G6', 'B00GZ18LL8']\n",
      "A23GFTVIETX7DS ['B000AO2NXS', 'B00DD94A4W', 'B007RTR9FQ', 'B0012J30LY', 'B00GXBEV0A']\n",
      "A3091RP0SPZLMN ['B002MO3CG6', 'B001ECQ5CA', 'B006L6A9NK', 'B00GTBZHUW', 'B0040H00PE']\n",
      "A2AVOVUTRTABTX ['B00AVXOI0E', 'B006END6N0', 'B000PBQ7LK', 'B002K9IO3O', 'B008UA2PYG']\n",
      "A149RNR5RH19YY ['B000BO0SGG', 'B000BGOWIE', 'B0002DV9CS', 'B00026CX6Q', 'B00005NBR6']\n",
      "A2SZLNSI5KOQJT ['B001EJOPRA', 'B002VA4FXA', 'B000NIBZVC', 'B001ET778O', 'B00A0IWRU8']\n",
      "A1EVV74UQYVKRY ['B00AHF1GTM', 'B00AE078TM', 'B00GTC1HB4', 'B007JT7AGC', 'B00AE07BDU']\n",
      "A2B2I5JO3E8LBX ['B0018X1WLY', 'B005PZ2PNK', 'B005A11VFM', 'B007BJ3KQ4', 'B003VMM74Q']\n",
      "ADMPGWBF0BC9W ['B005FYJB92', 'B004TSF8R4', 'B000HRVC5I', 'B000NIY7QM', 'B005P0OBSM']\n",
      "AKJHHD5VEH7VG ['B000N758A2', 'B001E6G6RU', 'B0054MSBZA', 'B001D0ACUE', 'B00GCQMSVA']\n",
      "A3TMBYDFP1B9DM ['B00EYZY5VC', 'B004MPZLVC', 'B005KJ35D0', 'B00GLS554Q', 'B00AE07H0M']\n",
      "A1YMXGQQT7YWMN ['B001QOGXOG', 'B0002UEDWE', 'B006ZA0A5Y', 'B00GTAJB78', 'B006UET5UG']\n",
      "A3FLMF8FG4VPG8 ['B0018QE376', 'B0036BI56G', 'B0009MHJE4', 'B007M81B4M', 'B001KYRWP6']\n",
      "A34TVK5J8P7XDQ ['B004SSFE8S', 'B00DBNDS8Y', 'B00HD4F8DK', 'B009IROB4W', 'B006MJ4YTQ']\n",
      "A3J029KBNG5MNP ['B00AWLB9G6', 'B00GTC0DFK', 'B009FKNGRA', 'B00AE07FXQ', 'B00AE07BMQ']\n",
      "A1GQAKL9CGQLP1 ['B004GIM68G', 'B008B9L6WS', 'B00AWLB9I4', 'B00AQ9JIDK', 'B00EOP3MJI']\n",
      "AQ6AGWKWMTY8H ['B002WQ8XNG', 'B001P1ZEJ0', 'B0000Y3DAK', 'B00ICSTK7Q', 'B003V3KB52']\n",
      "A32NZK5H2NIM13 ['B00EBXXKLS', 'B0027A7CMK', 'B0069UA4GK', 'B00AC2KDXK', 'B005GQ6FYS']\n",
      "A1QBOC76MIOJYP ['B000C21COE', 'B000VOHKXA', 'B003AYEG3U', 'B00429W1RU', 'B001EWF32S']\n",
      "A2Q3BW3177V542 ['B001NH1LXY', 'B00BR017UE', 'B001G6XCQG', 'B002697IIA', 'B004GTKXGC']\n",
      "A2NOW4U7W3F7RI ['B00GBL8VJY', 'B00004ZCJE', 'B00IP42FBA', 'B000144I30', 'B001F51TR2']\n",
      "A3ESTWDBNOUJQ7 ['B005XIDZHO', 'B008U1Q4DI', 'B001DO9VE8', 'B001DOA73C', 'B000TNOUA4']\n",
      "AOTMP0OKJOUWI ['B005TI7NQW', 'B00AE07BDU', 'B00A0IWRT4', 'B008VSYO5A', 'B00AE0790U']\n",
      "AE7V92R2LVEJF ['B0059NA3MI', 'B0084A5PSK', 'B002SICH1C', 'B005UBN2AO', 'B0086LC0WG']\n",
      "A27OTTW1CSOYWX ['B0015U5JD2', 'B00B1ZRTP2', 'B004BCT93C', 'B004TSFBNK', 'B004KRYVZ4']\n",
      "A2UOHALGF2X77Q ['B001ECQ4JE', 'B007JT7AIA', 'B003EH20ZO', 'B00HSNWXVQ', 'B001OMI93S']\n",
      "A37J8XKLNOX2RO ['B0014LLC3I', 'B003YC6GKO', 'B000P20PZ8', 'B000Q7XDR4', 'B00392X9UO']\n",
      "A1YUL9PCJR3JTY ['B001ET7E7S', 'B000KJXKAS', 'B0015PGFQW', 'B00021C1LI', 'B00023KCLM']\n",
      "A1R377IPZOKLMM ['B00BUMDR1Q', 'B00DCNBST4', 'B00547H5U2', 'B000QUM5LG', 'B0043OSHUY']\n",
      "A3RZ26AS9NM90E ['B000P279E8', 'B000GCLDOO', 'B0009N35D2', 'B002HK2GI0', 'B002VQTI4K']\n",
      "A24N4FKHGD7DWT ['B000GCRABY', 'B009GEUPDS', 'B0094GGRTY', 'B0029ERWH4', 'B005ZT0ZY2']\n",
      "A1UVKA2ZQD2C8Z ['B004VMVJ5S', 'B001AUYS3O', 'B001AQ6HDM', 'B000QV0NI2', 'B0028R0WFG']\n",
      "A1EMYTJKY3NA9F ['B003XWCMV2', 'B00AGUCQE2', 'B0050ZJ0UG', 'B0093Y6VQ6', 'B002KC07RM']\n",
      "A1NBK07JEBCFI ['B006LNRZ6C', 'B000EPWLDK', 'B003EIWK9E', 'B001ET7HRA', 'B003188776']\n",
      "A3S3VSXEFXBMRC ['B00FFWBW7I', 'B004NZC7MW', 'B0050ZJ0UG', 'B0027A7CMK', 'B004JXDER0']\n",
      "AEL6CQNQXONBX ['B005TI7NPI', 'B0020122ZS', 'B00A0J09G6', 'B0068G8DTA', 'B00GTBZHUW']\n",
      "A1XQ0F01CF84Y3 ['B001FB5TLI', 'B004UT39DW', 'B005GDAZE2', 'B004UDQ69W', 'B0009OAHVO']\n",
      "AB24Z8PTNQ33I ['B004X1P91C', 'B006L68D6U', 'B005HNXH3W', 'B006L68KKE', 'B006L68L5I']\n",
      "A3NM1MT3Q2FHXV ['B00ALV8EL0', 'B00HSNWXVQ', 'B00AWLBAE2', 'B00ATY942M', 'B002TSA90M']\n",
      "ALDAF4VVLFRHP ['B005TI7NQ2', 'B00AE078TM', 'B00A0IWTDI', 'B00A0IWT9C', 'B00AE07FUE']\n",
      "A3GKD8MAHURH91 ['B009OUEYUO', 'B00A6LSIAW', 'B009OU5SAO', 'B00GJFSM28', 'B009OUCHZ8']\n",
      "ADS99W8WMEXZ2 ['B00BROQU8Y', 'B006RFZ9IK', 'B005HIH7YM', 'B000BZB1FC', 'B004UDQ6GK']\n",
      "A27UE9HJRZ22YI ['B0013BF6P4', 'B000NPAK0W', 'B000JUX4HC', 'B001LFM4WA', 'B00406ZI3E']\n",
      "A2R9M9ALI356JU ['B001I6UCCQ', 'B000P275Z6', 'B0047MWTAG', 'B00199YUBG', 'B001UREIFU']\n",
      "ACZ94JB8BFMJ9 ['B007O7AZBG', 'B00B9FSLHY', 'B0013CSGBE', 'B004T3K54U', 'B0089JVEOK']\n",
      "A3IOCPLIMYDBCD ['B003UV0CZ4', 'B000DT8RL2', 'B003VDBG92', 'B000FKHNCS', 'B007HTOQYI']\n",
      "A2256XQAA1L8V8 ['B003N789UK', 'B001ET78QK', 'B009IROL1A', 'B000V321BM', 'B0039BCT56']\n",
      "A27FP0S5QH7GNE ['B0011NR3EQ', 'B003O4EPLY', 'B003O4M6TM', 'B007WR91F4', 'B0042ZB70Q']\n",
      "A2FWDBKX76ILA7 ['B002XHACJW', 'B005QDL1K4', 'B00E94ZA4E', 'B001MW1MKM', 'B00853ES7K']\n",
      "A31B8RZ8YDMRX1 ['B00GXE29EM', 'B00KAL5JAU', 'B00GJW40MW', 'B00IMHN0B4', 'B0081JG2T0']\n",
      "A3VV0Z7QF0U4W0 ['B003XS8V8Y', 'B0006NXPMQ', 'B003Z4OD24', 'B003ESNJSK', 'B00027DDOQ']\n",
      "A3NHUQ33CFH3VM ['B00GTBZHUW', 'B00A0J09GG', 'B009YSSLAU', 'B00GTC0E1I', 'B0072XUY7W']\n",
      "AXK3KYH8NQ9G2 ['B001VD8DDG', 'B00C8YCFU4', 'B002CL6D56', 'B004Y9GVZG', 'B004DIXYWG']\n",
      "A3S3R88HA0HZG3 ['B001ECQ55M', 'B00AE07CTI', 'B00A0J09G6', 'B00GTBZWPW', 'B00A0IWRT4']\n",
      "A1X3ESYZ79H59E ['B00AE07GX0', 'B00AE07FUE', 'B001E763K4', 'B000JUV816', 'B002JQAM3I']\n",
      "A16YU3GRGCD95S ['B00AE07FXQ', 'B00ALV8EKQ', 'B00AO379NE', 'B00GTC03OG', 'B000AO2NXS']\n",
      "ALEW5AUKCRWHN ['B008R56PVI', 'B004SPY1SU', 'B0061JQY40', 'B0041OUGF0', 'B0032DHP6O']\n",
      "A1PAGHECG401K1 ['B006RFZ66K', 'B0051MQ3TO', 'B000UPRSKA', 'B00005N6KG', 'B00GDLML02']\n",
      "AJGU56YG8G1DQ ['B001CYC4I4', 'B003TPTGDK', 'B0002Z8QG8', 'B000L596FE', 'B0020VJTDG']\n",
      "A3VN4P1607UR2U ['B00683JILU', 'B00BLF99H8', 'B00B8UDOAE', 'B003I8I0YY', 'B00AZBTUNC']\n",
      "A2B8GXSCB1R05T ['B005TI7NPI', 'B001K7IITC', 'B002Z7EOOE', 'B00G36TJKW', 'B005FPWORC']\n",
      "A1OMXVXXP07F05 ['B00AXRBAEA', 'B0000CFYM9', 'B00GTBZHCA', 'B004UKENRC', 'B00ISW8ZVS']\n",
      "A5BJMAHZWGJ7N ['B00GTBZ85Q', 'B009CZR3Y0', 'B005VX8S4G', 'B00GYB1AQM', 'B0050QJ0YQ']\n",
      "A177B2VPWX4P55 ['B005HIH97C', 'B004BCVALG', 'B004IQIVL2', 'B009S3DV8I', 'B008GFVOOM']\n",
      "AEJEG1P5S4J9Y ['B006LPVGCO', 'B003NV9R2U', 'B009L0YD6M', 'B004LSLLJ6', 'B001KYQDTC']\n",
      "A2R1HUYHXV7H18 ['B00GTBZI6A', 'B006L6AA8Y', 'B00AE07GX0', 'B00A0J09G6', 'B00AE078TM']\n",
      "A2G3V7O4WP5F36 ['B004KAVHG2', 'B004T9ER1G', 'B005JHB350', 'B00IJGRJ74', 'B0064BJZ00']\n",
      "A1EAX5HVYV96EF ['B000IQSTLS', 'B000BTQKYA', 'B004YBW5T0', 'B0036Q4RZE', 'B00943D1JQ']\n",
      "A2QWHEI914GHRZ ['B00IT69F62', 'B00HOHLKY2', 'B00IU079YM', 'B00K861Z4G', 'B00KH6F6TM']\n",
      "A1HBTW5M7ZZ9PT ['B002IB7UCK', 'B0017K8HJS', 'B009MITBVU', 'B003T4B468', 'B000052XW5']\n",
      "A2XKJ1KX6XUHYP ['B003VX1KF2', 'B004RBZ9MM', 'B000ORV3NC', 'B00GX9VJZC', 'B002LMJO5M']\n",
      "A2VH0UT5EQFB6P ['B00A0J09C0', 'B009YSSLAU', 'B00A0IWRU8', 'B007RTR9E2', 'B007RTR8UM']\n",
      "A3AZI828WJN1CD ['B00ALV8EL0', 'B009YSSLAU', 'B009FKNGRA', 'B002MO780W', 'B00AO4E9E0']\n",
      "A2BYV7S1QP2YIG ['B004MTF3KC', 'B0058P6S2Q', 'B0016A2D3K', 'B001EJOPW0', 'B00JZ0L7VC']\n",
      "ARBKYIVNYWK3C ['B000A6PPOK', 'B00005108H', 'B00009W3U4', 'B00I3AWYQC', 'B0007UVRVO']\n",
      "A3SFI0SLCMP0KX ['B00HNZJM1I', 'B00BG6HNKC', 'B00JFH095K', 'B00D0NMRAK', 'B004B394V8']\n",
      "A1VQBEW0G4IH1J ['B003ATNYJC', 'B008RPCNSW', 'B0012RWOFY', 'B000HI9O5W', 'B0068G8DTA']\n",
      "A1FR68QH6Z4YZM ['B00005UOSN', 'B000182FHW', 'B0009EUSYU', 'B00004U0CR', 'B0001YEOCU']\n",
      "AGWWIU5K88RKB ['B003Y04OK0', 'B000GI3UA8', 'B0010TOZ5Q', 'B002RKKA0G', 'B000JVTYIY']\n",
      "AHUT55E980RDR ['B00AE078TM', 'B00GTBZOVE', 'B00AWLB9I4', 'B007JT7AIA', 'B00AE07CTI']\n",
      "A1A3R2SG60TOR0 ['B00I0LI8L4', 'B00I36SM1W', 'B00EXK0TLI', 'B00BKR6LDM', 'B00C85HTAE']\n",
      "ABH9D1TEOJ56E ['B0000DJYEO', 'B00008O35W', 'B00009WKCT', 'B00008O35T', 'B0000636RZ']\n",
      "A2F4FJ3BIZ68GJ ['B00EQVJQZE', 'B008JH1CB2', 'B006LFPF9E', 'B003UM6TJG', 'B0078VJ1OK']\n",
      "AY9HUIJWJ8TT7 ['B000F8TT4K', 'B002T3V294', 'B003J82WFQ', 'B000Z602SO', 'B0058KIAHC']\n",
      "A287547UH1VBJ7 ['B000R99V5O', 'B004GIM68G', 'B0007R4LI8', 'B0049VQGL8', 'B0041R9AZE']\n",
      "A1ZXEVTNNDKJ61 ['B003VS66H4', 'B000DT7G2S', 'B0002CTSRM', 'B0095JFUCK', 'B0017OP2TC']\n",
      "AKMBOKJQBLI1U ['B005C1C02S', 'B006HJPT7W', 'B007TL60IE', 'B006HKCR9O', 'B00H928F0Y']\n",
      "A1X2LENOF84LCQ ['B0000A2QBX', 'B000BFO4OC', 'B003Z79TAW', 'B000EA6WOO', 'B00032HC92']\n",
      "A36RO7NCM6IUGB ['B00155O0S2', 'B00021DZCC', 'B003CR9AOA', 'B0002JBF1W', 'B000C231ZW']\n",
      "ADLVFFE4VBT8 ['B000067RVL', 'B000HKGK8Y', 'B000261N6M', 'B000BYA5NC', 'B000FVGM38']\n",
      "A1FU6N9PIEIL5F ['B001RVGQ0Y', 'B004TSAOXC', 'B007PWRXHO', 'B001TP0A8C', 'B000142ZFS']\n",
      "A1C80VYQMM3FQB ['B0019CU6T8', 'B004WC37SY', 'B001CPM03C', 'B004INQ65S', 'B0028NA9US']\n",
      "A1F7YU6O5RU432 ['B00ATY942M', 'B00GTBZWPW', 'B00A0IWRU8', 'B009FKNGRA', 'B00GTBZOVE']\n",
      "A2A5C9IQ06CG9N ['B006BEVUDA', 'B003N8YO76', 'B0001I8ZQ2', 'B002RGRJC2', 'B000VHTH56']\n",
      "A3HJ8ZPQN5VR7X ['B000LIORQE', 'B00BPX885U', 'B0044AISII', 'B00766SGPM', 'B001KYRQSO']\n",
      "A38QEATH3NODFM ['B00000JF4L', 'B00008L3HI', 'B000FNJYZO', 'B00000JDKT', 'B00004I9W2']\n",
      "A2EBR70V6P9W0N ['B0046ZWYCC', 'B001ET6XNO', 'B007XAU3GG', 'B00B7M276K', 'B003K4V20K']\n",
      "A2A7KXM9B4XW90 ['B004D247SC', 'B000VF023E', 'B00CXADQ4M', 'B008JVZMDM', 'B002QI1E9K']\n",
      "A1MJMYLRTZ76ZX ['B00004ZCJE', 'B00008K4BD', 'B00004TDN2', 'B00005NHH8', 'B000799LQS']\n",
      "A203OCQQ12MAVT ['B0002GV876', 'B0008D76L0', 'B000ASDU7W', 'B000GUSMH2', 'B000230L3G']\n",
      "A1DAFWS98LQD2R ['B00157FJFS', 'B001FT75SA', 'B0009EILKS', 'B001GNBW0W', 'B004JLGC12']\n",
      "A1JWSDDIH5Z7DV ['B0000UA3MA', 'B0006PK8IS', 'B0009K9FZW', 'B00008GT9Y', 'B0006HU49E']\n",
      "A260QLS8Z33KCQ ['B001MS7GY2', 'B007MF5UOM', 'B003ZYL2DW', 'B0030HKJ8I', 'B002PBAJ4Y']\n",
      "A2AY4YUOX2N1BQ ['B00009UT3F', 'B00007B4DM', 'B0007Y79E4', 'B0000UTUW4', 'B001OLFQLC']\n",
      "A2OWR5G2OAQF7C ['B000052YOR', 'B004K0MVKS', 'B002CMLHF6', 'B00AWLB9G6', 'B0007LI13U']\n",
      "A3Q4TYJVAM4IRM ['B00007GQLU', 'B00BUMDR1Q', 'B001EWET8W', 'B003PF406M', 'B001441QFE']\n",
      "ACN76NFHYL6JK ['B009Y2117G', 'B0009R5BU8', 'B001KYQABS', 'B005HYBJXQ', 'B005IUKUAC']\n",
      "A2XRMQA6PJ5ZJ8 ['B00006I5JM', 'B000BY52O4', 'B0007XXU2K', 'B00009MDBQ', 'B00065ANY2']\n",
      "A3AYSYSLHU26U9 ['B00AO4EMKQ', 'B0034F9KEU', 'B00A0IWSN4', 'B00IDWP4IA', 'B003DKO7RG']\n",
      "A3JCWGHCVC2ZNF ['B006OY1NCA', 'B005G8D4T0', 'B004X1QXKS', 'B006T8BXGW', 'B000BGV4YE']\n",
      "A1VQHH85U7PX0 ['B00008VF63', 'B00004ZCJE', 'B000BKJZ9Q', 'B0006HBCL8', 'B000066HO4']\n",
      "A261I3UFZG30Z6 ['B004JSGF4O', 'B00CJ0TZ1E', 'B0030O3VRW', 'B004DIXYUI', 'B000H88QOM']\n",
      "A132ETQPMHQ585 ['B000KONYJK', 'B000095SB4', 'B001F51TTA', 'B000P6I3WG', 'B00008MOQN']\n",
      "A1435P5AMCPB3X ['B00005MOZG', 'B0000659UN', 'B000AM7I30', 'B000GV1ZZC', 'B000EUJ1Q0']\n",
      "A2LAS014NSRW72 ['B0020122ZS', 'B009YSSLAU', 'B001ECQ55M', 'B00AE07FXQ', 'B00A0IWRRG']\n",
      "AMG0JC609SOW8 ['B0091OCCD4', 'B005P00JRE', 'B003VPK4NY', 'B0016Q2604', 'B000R8WFKS']\n",
      "A2JNO9OR8FGNR4 ['B006RFZ66K', 'B0013JHGPO', 'B004CNRDBU', 'B00ATDTZ0Y', 'B000NW6RGG']\n",
      "A3VBF1J95ROAYF ['B00DUF8X5G', 'B0092ZMKBQ', 'B00CDE6SVQ', 'B004HXWJZK', 'B001QT75HU']\n",
      "A5C2PJ2RFO4WS ['B001QD0OYM', 'B001ZD5HAY', 'B009WI2EZ0', 'B001KYQ7RK', 'B005EII104']\n",
      "A2ZKZJGVGIJ8OP ['B004DIXYUI', 'B003IP0Y14', 'B0002Z0UA8', 'B0028RWCR2', 'B002LE54P4']\n",
      "A353U0L2HAMSHV ['B00AWLB9G6', 'B00HSNWXVQ', 'B000O54H0U', 'B000H859RE', 'B00AO4E9MC']\n",
      "AY12DBB0U420B ['B005FNVINA', 'B003GDBEBM', 'B000H3EOSE', 'B004LTYVM4', 'B000NSQNR8']\n",
      "AQY5XBYSENNZQ ['B00AWLBACE', 'B00GTBZHUW', 'B00GTBZOVE', 'B001U0ONNY', 'B004667UHA']\n",
      "A3NEAETOSXDBOM ['B0012J30LY', 'B000BI7NHY', 'B000CSWCQA', 'B000067VBL', 'B00027DMI8']\n",
      "A3UZ99BQWAJACU ['B004Y4HX58', 'B002B4GGUG', 'B007O7AZBG', 'B00008MOQN', 'B00979C5AI']\n",
      "A2UM324B00HBC8 ['B007RTR8UM', 'B00AAIOP44', 'B00HK1KNKO', 'B003NRYG1Q', 'B000NRRHTM']\n",
      "A3I3BI5PFL3MSH ['B0018M24BC', 'B007MJL57O', 'B00DGW1SFK', 'B00AJO569W', 'B00GUPPUKO']\n",
      "A1FWFCJU2G7TRA ['B001ECQ4YO', 'B00EYZY68Y', 'B0054MSBZA', 'B009GEUOZ2', 'B003FKSVMG']\n",
      "A1CI63P473W5RJ ['B007448GTM', 'B0055641AY', 'B000C235A8', 'B00FUMLB42', 'B005QOKHQC']\n",
      "A21SKLDXVEJ89E ['B00008CMOQ', 'B001T8W48I', 'B005MZPXGE', 'B00C41T1BC', 'B00KPZ0YU6']\n",
      "A1VUN4JU731CBH ['B00AZZ5UUK', 'B000SQVBH2', 'B001AWDV4Y', 'B004ZD2M68', 'B003MY2OXC']\n",
      "A1HOPKK8E3MIX6 ['B002Y5PNA6', 'B000B60J2C', 'B0013IT4B4', 'B000P250NK', 'B0009OAIKY']\n",
      "AVY406XUHAN72 ['B005ZLCIU4', 'B0027SXG9K', 'B000FLIJB6', 'B003Q8Y41O', 'B003I36I20']\n",
      "A3GNEPABXLTKON ['B008AMKZUU', 'B0018C0HLQ', 'B0045K1N8E', 'B001MP0T2Q', 'B0063TFLG0']\n",
      "ATSR2L4FZVO8Z ['B00120IJSC', 'B00138Y8NI', 'B004THWBLQ', 'B003UH0528', 'B000PK4XRQ']\n",
      "AV6823XS14U41 ['B002RZZXYE', 'B00029V166', 'B004WWZDMC', 'B000H3EO9I', 'B002IB4KGE']\n",
      "A1FR87EBHPZHBJ ['B008SDY08O', 'B000AA5VZY', 'B0046QDPZG', 'B002HPBF32', 'B0059NA3MI']\n",
      "A3D9NUCR4RXDPY ['B007RTR8A2', 'B00604MSSC', 'B00HM6IV6K', 'B00009QOS3', 'B00HM6K6XQ']\n",
      "AIIZTJHZLV158 ['B00GYB140E', 'B001ET7IM4', 'B004X8NECG', 'B004CNRDG0', 'B00AZJ009M']\n",
      "A390XPHE9J7DBO ['B00KNIL36E', 'B00IMWA4RC', 'B00CEPM91M', 'B00GP2N66W', 'B00IT69F62']\n",
      "A2UJT1C0E0DWVQ ['B002XTZUNI', 'B000PI4J3G', 'B000KQ1E5Y', 'B002NN6WZE', 'B000142FVW']\n",
      "A2D4FQHV506EPB ['B000GCXTXW', 'B00GTBZNP6', 'B000GCQV9G', 'B009G0E59M', 'B00HM6IXH2']\n",
      "AT2J7H5TRZM8Z ['B0000635UX', 'B00004WZOG', 'B00005KK2Q', 'B00006LHO7', 'B00006IS65']\n",
      "A17Y11XADHLI8A ['B00AU9VX3Y', 'B0046UCZ2G', 'B005UGVIQ4', 'B001SAUBOQ', 'B003B30WCY']\n",
      "A2CQ2X9H9HY6W0 ['B005GHP5UC', 'B001ET78BU', 'B005EVOLI2', 'B00004Z5M1', 'B0057FETAK']\n",
      "A2QDOJFFLFGF18 ['B001ECQ4JE', 'B00AE07EIM', 'B00AO4E9MC', 'B00ALV8EJW', 'B00AWLB9G6']\n",
      "A1I6U5AQAT3ZG9 ['B00AWLBACE', 'B00AAJTDLI', 'B00GTBZ85Q', 'B006L6A06Q', 'B00AE07EGO']\n",
      "A3H4L7TJKQHW4Q ['B005L9VGY4', 'B000JSG5J8', 'B003X9TAFQ', 'B001EO5X9E', 'B000TKF13C']\n",
      "A19HDB4BN6RFFT ['B009GYVMAS', 'B001B7KJUW', 'B005G9E98O', 'B0030O3VRW', 'B0009OAGQU']\n",
      "A1DCBQD9QX2I3J ['B007BJ3KQ4', 'B0018BTA2Y', 'B001NH6ZVW', 'B000142FVW', 'B00A1Y177A']\n",
      "A6XHF110BC856 ['B005TKZS76', 'B001V3TVEQ', 'B00DQG0PJQ', 'B00479FP4Q', 'B006K1XA9G']\n",
      "A3GU3CXHONZJQ6 ['B000C2127G', 'B000OYF2CI', 'B000YRQ1FC', 'B0037LZ84W', 'B001AXCTGY']\n",
      "A3W4D8XOGLWUN5 ['B000EWF5KO', 'B0001EZN48', 'B000EWARBG', 'B000CO77SC', 'B000HVVO98']\n",
      "A2NIUVVH46ZDTH ['B006B1TNIM', 'B004XJNQIC', 'B005LQJ89W', 'B0001ZWP6Q', 'B0019MWE5M']\n",
      "A9MYCYZT8EMMX ['B001J9LLX6', 'B00355VHSG', 'B0019QJY4M', 'B003H8E7SS', 'B003ME9R5A']\n",
      "A3NCIN6TNL0MGA ['B00GMZUS2M', 'B00006IS4X', 'B00006HOLO', 'B00A0IWRT4', 'B000I68BD4']\n",
      "A225UWT247BBBH ['B0054Y3L6M', 'B005FP4RDG', 'B003X3S26U', 'B007T46IHY', 'B001BAEUQ8']\n",
      "A36MP37DITBU6F ['B0072XUY7W', 'B00A0J084Y', 'B00AE07BMQ', 'B00AWLB9I4', 'B0071GQPSW']\n",
      "A2K4HN6EECBNR3 ['B0068G8DTA', 'B007RTR8T8', 'B00GUTLC0C', 'B00HM6IXH2', 'B000US0804']\n",
      "A2AX9C569CKHOJ ['B003JT4F3C', 'B001DBC8K0', 'B00016XJ4M', 'B004T3K54U', 'B000S99950']\n",
      "A2WW57XX2UVLM6 ['B00ALV8EJM', 'B00GTC02LA', 'B008U2Y9BQ', 'B006L6A9NK', 'B00AE078TM']\n",
      "A1GUX6R8DV3ZLY ['B001KYQ3DS', 'B00B0QJC6Q', 'B000A3V2BI', 'B001BKLPK2', 'B004TSF95U']\n",
      "A1PK9JYJF5Y2V6 ['B004OHQR1Q', 'B0027TZPVQ', 'B000ELP5KA', 'B0027TY3T6', 'B0056VEYMS']\n",
      "A1V1EP514B5H7Y ['B000C1UFM0', 'B001JQLNNC', 'B001JQLNLY', 'B0012J30PU', 'B0001MKTZS']\n",
      "A1ZU55TM45Y2R8 ['B00A0J09GG', 'B00604MSSC', 'B00009UHXR', 'B007K449CE', 'B00AE07CPM']\n",
      "A1JLBNDDAJB4OP ['B003DKEATQ', 'B003VI0HVA', 'B004BCT950', 'B004Z40048', 'B005HIH7YM']\n",
      "A3FBM0RMCMAABV ['B008U2Y9BQ', 'B00GTBZOVE', 'B000E0K7NQ', 'B00AE0790U', 'B00AWLB9I4']\n",
      "A3BMI7VGJT60Y7 ['B0032P3FRA', 'B0037MH6L4', 'B0014A5P8C', 'B004ITB3IW', 'B003GVCU62']\n",
      "A11SWG9T60IQH8 ['B000FN6TPM', 'B0017SIMK4', 'B001AY7T4A', 'B001070IEA', 'B0017KCM3A']\n",
      "A31N0XY2UTB25C ['B0095BWHV0', 'B000GFZWE8', 'B0007CXXVE', 'B002CMLHDS', 'B000067SOH']\n",
      "A2KQ9FU7M6IX2X ['B001715WH2', 'B002ULRAQE', 'B00178TVXG', 'B007A592HU', 'B007RTR9FQ']\n",
      "A2D2XKSXEG3O7F ['B006ZBP8NM', 'B000L9YYTS', 'B006ZENPYS', 'B002WR58XS', 'B004NMF63W']\n",
      "A6X1O3A5C5FX1 ['B007K449EC', 'B007RTR8T8', 'B003U4LI7W', 'B00AO379NE', 'B00BTISDW4']\n",
      "A2G35B0XBEVQTC ['B003IXP6P0', 'B0009MHJE4', 'B0081E6X3U', 'B0059U4AQ6', 'B004AQ1V80']\n",
      "A1JAPP1CXRG57A ['B0098JU8TW', 'B00GLS58SO', 'B001JQLNNW', 'B007RTR8AC', 'B0052BHMOO']\n",
      "A34GQ3JF4BGFYV ['B004B3Z0Q6', 'B00G0NLXPM', 'B00B7UUTTE', 'B00B9V99C4', 'B005K95ZVA']\n",
      "A2J19U8H5SSFCJ ['B0094GHGQM', 'B0009ET5O4', 'B0055S4BZ2', 'B000FIFJBM', 'B003O5NGJK']\n",
      "A3GPAR4H5Y5OU8 ['B002BWOXWG', 'B0011UVCKU', 'B0047ELOYG', 'B000GPWCIM', 'B0040PDKPI']\n",
      "A5GPH59NDWJRB ['B00GW1HKHW', 'B002MO780W', 'B000KPSSJK', 'B002F6WYMO', 'B00AHF1GTM']\n",
      "AGVWTYW0ULXHT ['B0007D9B9G', 'B0000TG47E', 'B00007FWP2', 'B005ZAYQYG', 'B00A0IWRT4']\n",
      "A1RPTVW5VEOSI ['B00004VUMG', 'B00004ZD39', 'B00003WGP5', 'B00004S9WQ', 'B00004VUMI']\n",
      "A24TCT2CY6KY68 ['B001F51V9S', 'B0099TXBCC', 'B00008I8PP', 'B00F200NZK', 'B000QF8O8O']\n",
      "AYB4ELCS5AM8P ['B00DCNBST4', 'B00AE07BDU', 'B00A0J09G6', 'B0020122ZS', 'B00GMZUS2M']\n",
      "ATDE9JYCPI0L1 ['B0000X6D2Q', 'B0002JUH3E', 'B000ETXOC8', 'B000E1D9TE', 'B000LZBNI2']\n",
      "A33PYDS5IBQD7N ['B004AME6K4', 'B004XTL760', 'B004HAMIJA', 'B001MP7HYE', 'B006ITRIQ6']\n",
      "APG4YVSUN3T6S ['B0062W4T98', 'B003Y7TA8O', 'B0034E702U', 'B002IT6H9O', 'B000MS0FBO']\n",
      "A2Y0CDA54WZGC4 ['B001B1T2SS', 'B000ZV3VJ6', 'B006H2Z5KK', 'B005IR3K20', 'B007VTBR6Y']\n",
      "AAA0TUKS5VBSA ['B00AE07FUE', 'B006RFZ8NG', 'B00A0IWRRG', 'B009VGNYFM', 'B00A0IWTDI']\n",
      "A1PTBXZG04GT29 ['B00BXKET7G', 'B00ESYBV34', 'B00IP42FBA', 'B0081JG2T0', 'B00J4S3OO8']\n",
      "A3KO6JEVS1FJ8X ['B00007M1TZ', 'B003AVNLP2', 'B001BAJ2G6', 'B0088P5STM', 'B007XEBYA6']\n",
      "A11D1KHM7DVOQK ['B00000J1G6', 'B00081PR72', 'B00005QT5J', 'B0001IXUEE', 'B00005B9W6']\n",
      "A158CH42BGFN68 ['B00DGGG1IU', 'B001B7PVRS', 'B005WTYEYW', 'B0083QNBCM', 'B000I68BD4']\n",
      "A135SX8ESCQV9B ['B005X2F7JY', 'B0061YRVMO', 'B0061KQG6K', 'B0061KQF2K', 'B005ACLU3E']\n",
      "A1MFDFUGEVNIFK ['B0074OLDLK', 'B001VSRDZ0', 'B000GHWUQ4', 'B009B54QJG', 'B001FWXMMK']\n",
      "A1YRCEF0HM8QVR ['B001S4C91K', 'B006FXOKDY', 'B001F0QX0K', 'B005HO0A1I', 'B001GKEX4M']\n",
      "A3MUSWDCTZINQZ ['B00A0IWRU8', 'B001ECQ4JE', 'B001ECQ4OY', 'B001ECQ55M', 'B00A0IWSN4']\n",
      "A33PVCHCQ2BTN0 ['B009YSSLAU', 'B00AAIOP44', 'B005TI7NQ2', 'B00GTBZHUW', 'B00GTBZN4C']\n",
      "ACR4HKUT808U1 ['B000065DK4', 'B007WRY6MW', 'B003V21WO2', 'B00A0J09G6', 'B005KJ353U']\n",
      "A2W9VGCIJQG0NI ['B0000YUX4O', 'B004Y548K0', 'B000JWM7FA', 'B003Y5CDL2', 'B000MQ6XL2']\n",
      "A914TQVHI872U ['B005CWJF2K', 'B00AWLB9I4', 'B00AE07FQI', 'B00AE07BMQ', 'B0098JU8T2']\n",
      "A3IQXED40ZZ2T2 ['B00IT1HKV4', 'B00H93NJLS', 'B00GZLTD2Y', 'B00HQ5K426', 'B00IP42FBA']\n",
      "A2PATWWZAXHQYA ['B000PHVONA', 'B001U3UBRS', 'B000CSIUWA', 'B001D9UZTS', 'B002QA31SU']\n",
      "A1DQHS7MOVYYYA ['B002VECKIS', 'B001MV5YC0', 'B0009N7OL6', 'B002VECKJM', 'B000O2K97S']\n",
      "AXYVSHTLWBINI ['B0036Q7ZYY', 'B00J4R760C', 'B006W6Y64M', 'B001715WH2', 'B000CPIMNA']\n",
      "ANXT431V3MW4Z ['B00005A9WP', 'B005BQWP74', 'B001ADP0OM', 'B007ML0OY2', 'B00121UVU0']\n",
      "A3SH6CQYS8FHB ['B00021DJ32', 'B007O7AZBG', 'B00021DDR4', 'B003V265QW', 'B0015Z90NC']\n",
      "A1EKSETIBS9ETQ ['B00006BAXT', 'B00006I53A', 'B0002ARNUI', 'B00005LEOO', 'B000FMJLQC']\n",
      "AGXV8E7XK9J6H ['B0007WK8LC', 'B0009QU636', 'B00021OCQU', 'B0000AE67G', 'B00006I533']\n",
      "A7T2VY28U2IDB ['B0008ELEDA', 'B005GQ6IPY', 'B002PRSFJO', 'B0055OMEZ0', 'B004XVJK30']\n",
      "A35HOUWHAYZZN6 ['B009YSSLAU', 'B00A0J084Y', 'B00AE07BMQ', 'B006RFZ98K', 'B00ID8H4OG']\n",
      "ATV36X9V9DRB9 ['B000OV3ZDO', 'B005UUMBB6', 'B00EHYXNN6', 'B00AU7LQ38', 'B00ANUFVDS']\n",
      "A2PGDUYXZFAPT5 ['B002MZ8BK2', 'B0086LC49K', 'B003I8C5OK', 'B008VHGW7Y', 'B0009F3R7E']\n",
      "A2AEQSSI637PJ0 ['B000GFSVOQ', 'B00BBJ5HA2', 'B007PTGHKQ', 'B0086XX0AK', 'B0094GHGQM']\n",
      "A3LWVPC3KVQAFR ['B00AQGB7AU', 'B004G540WO', 'B003FBI9LS', 'B0044XXO84', 'B003LSDQJA']\n",
      "AN81JUYW2SL24 ['B000YZJMHS', 'B001P1ZEMC', 'B000A6PPOK', 'B0060HOOA4', 'B003AYEFSG']\n",
      "APYKGTU0LFICH ['B005Q8CRFM', 'B00027DDOQ', 'B0058UY9FY', 'B001VEHXMW', 'B000EGIFBQ']\n",
      "A15QYHQH80W30L ['B006K9OQSC', 'B000EWHEM6', 'B0009BX0AM', 'B0007DDK7A', 'B000HZBR64']\n",
      "A2JCJJNY43QQIV ['B001LF4I8I', 'B00AHF1GTM', 'B00D6EDGYE', 'B009ZRFJFA', 'B000VPPUEA']\n",
      "AUZ8FSNOTA0DN ['B001KYQ3DS', 'B003156NOS', 'B000UQDR5E', 'B002WTC37A', 'B001EM1BBK']\n",
      "A1Q7A78VSQ5GQ4 ['B0000530G3', 'B004UDQ6GK', 'B001GIOW3G', 'B00EYZY5TY', 'B0072XRJ20']\n",
      "AGKAEFSFYWBDF ['B00AK7UZBW', 'B001G3TGT6', 'B00CXN66M8', 'B00B1N6TSC', 'B003TJ8R0O']\n",
      "A2HMP5LYU0BF6B ['B005EII2OY', 'B007Q22HMY', 'B0030HMQTS', 'B009MXZTEI', 'B0047ELRO8']\n",
      "A33Y8C4818EJL0 ['B00AWLB9G6', 'B00AE07FQI', 'B000E0K7NQ', 'B003P904EA', 'B003ITMPI0']\n",
      "AN9EWQN1LGMY7 ['B005ENTZ22', 'B0079HNKLI', 'B001FB5TLI', 'B0072FSML0', 'B001FWXJZK']\n",
      "A3J1XDOKRNRA6M ['B00B3XZ76A', 'B001G7PMOK', 'B0011DRT9K', 'B007EP9BNG', 'B000P9FPAG']\n",
      "A1P27BGF8NAI29 ['B000AO2NXS', 'B00HE88JMC', 'B00F5KE8VM', 'B000HRVC5I', 'B000ZV1WJ2']\n",
      "ALUNVOQRXOZIA ['B0001WOSJG', 'B00003GPVF', 'B00000JI2C', 'B00004R7OI', 'B00005A0R8']\n",
      "A6QG9LM5WL0AQ ['B00EYZY5VC', 'B00AK4QS7A', 'B00D6EDGZI', 'B009G0E9CK', 'B003S516XO']\n",
      "A2F09EWKV3MTO2 ['B003RSY1NE', 'B003RSSBXK', 'B00005V5OU', 'B0010ED5FC', 'B000052YLX']\n",
      "A1W415JP5WEAJK ['B009FKNGRA', 'B00GAXJJYY', 'B00F5KE8VM', 'B004N7DQHA', 'B00F5KDVDS']\n",
      "AZ4EUUJVC8358 ['B001B611L4', 'B001N5FRWW', 'B006DR2BO2', 'B00D879BFW', 'B005IHEBJ6']\n",
      "A32ZIX6JXPJX3O ['B0040YRFAK', 'B009KTT242', 'B004LCZEJK', 'B003KUD702', 'B000IZH75S']\n",
      "A3RRNV5GDJ4SLW ['B0046MDK32', 'B000F8FZAC', 'B003XGX6ZY', 'B003IX5JNY', 'B002RT70UK']\n",
      "A3HSOV4FIC8B4X ['B004KAQVQI', 'B000FQVQF2', 'B004Q9H7XO', 'B004QBDILW', 'B000FQVQFM']\n",
      "A3AWV00ZU7MSK1 ['B005H955YK', 'B00HSNWZFU', 'B00HZDYHGI', 'B008EKY8VK', 'B00AY90J1C']\n",
      "ATANE2SC44592 ['B00AE07CTI', 'B008VSYO5A', 'B00HSNWXVQ', 'B00AAJTDLI', 'B000E0K7NQ']\n",
      "A96FRN3LGYUX9 ['B00D8K7J9Y', 'B003FBQJ2O', 'B0080LK7WC', 'B004L02VHK', 'B0009V8N5E']\n",
      "A9J5SLYXUCWO1 ['B009ZBMVHU', 'B00005B9FV', 'B001283VUU', 'B003IW4AS0', 'B00B6HNAYO']\n",
      "A1KSC91G9AIY2Z ['B00DGW1SFK', 'B00BB8MLCA', 'B000NJHNEY', 'B00BLQC0JQ', 'B003VJICDY']\n"
     ]
    }
   ],
   "source": [
    "# the recommended items for each user\n",
    "for uid, user_ratings in top_p.items():\n",
    "    print(uid, [iid for (iid, _) in user_ratings])"
   ]
  },
  {
   "cell_type": "markdown",
   "id": "nuclear-nicaragua",
   "metadata": {},
   "source": [
    "### Recommend certain products for a specific user (KNNWithMeans)"
   ]
  },
  {
   "cell_type": "code",
   "execution_count": 146,
   "id": "postal-organic",
   "metadata": {},
   "outputs": [
    {
     "data": {
      "text/html": [
       "<div>\n",
       "<style scoped>\n",
       "    .dataframe tbody tr th:only-of-type {\n",
       "        vertical-align: middle;\n",
       "    }\n",
       "\n",
       "    .dataframe tbody tr th {\n",
       "        vertical-align: top;\n",
       "    }\n",
       "\n",
       "    .dataframe thead th {\n",
       "        text-align: right;\n",
       "    }\n",
       "</style>\n",
       "<table border=\"1\" class=\"dataframe\">\n",
       "  <thead>\n",
       "    <tr style=\"text-align: right;\">\n",
       "      <th></th>\n",
       "      <th>iid</th>\n",
       "      <th>r_ui</th>\n",
       "      <th>est</th>\n",
       "    </tr>\n",
       "  </thead>\n",
       "  <tbody>\n",
       "    <tr>\n",
       "      <th>1222</th>\n",
       "      <td>B00000J1G6</td>\n",
       "      <td>1.0</td>\n",
       "      <td>4.187838</td>\n",
       "    </tr>\n",
       "    <tr>\n",
       "      <th>4157</th>\n",
       "      <td>B0008GP89E</td>\n",
       "      <td>1.0</td>\n",
       "      <td>4.187838</td>\n",
       "    </tr>\n",
       "    <tr>\n",
       "      <th>8542</th>\n",
       "      <td>B000FGJUXC</td>\n",
       "      <td>1.0</td>\n",
       "      <td>4.187838</td>\n",
       "    </tr>\n",
       "    <tr>\n",
       "      <th>8032</th>\n",
       "      <td>B00001P3XM</td>\n",
       "      <td>4.0</td>\n",
       "      <td>4.187838</td>\n",
       "    </tr>\n",
       "    <tr>\n",
       "      <th>7851</th>\n",
       "      <td>B00004Z0C2</td>\n",
       "      <td>4.0</td>\n",
       "      <td>4.187838</td>\n",
       "    </tr>\n",
       "    <tr>\n",
       "      <th>7291</th>\n",
       "      <td>B0002SQ3Z6</td>\n",
       "      <td>3.0</td>\n",
       "      <td>4.187838</td>\n",
       "    </tr>\n",
       "    <tr>\n",
       "      <th>7133</th>\n",
       "      <td>B00009EFEK</td>\n",
       "      <td>4.0</td>\n",
       "      <td>4.187838</td>\n",
       "    </tr>\n",
       "    <tr>\n",
       "      <th>6790</th>\n",
       "      <td>B0006B486K</td>\n",
       "      <td>5.0</td>\n",
       "      <td>4.187838</td>\n",
       "    </tr>\n",
       "    <tr>\n",
       "      <th>6581</th>\n",
       "      <td>B00005B8SF</td>\n",
       "      <td>2.0</td>\n",
       "      <td>4.187838</td>\n",
       "    </tr>\n",
       "    <tr>\n",
       "      <th>6394</th>\n",
       "      <td>B000059L44</td>\n",
       "      <td>1.0</td>\n",
       "      <td>4.187838</td>\n",
       "    </tr>\n",
       "  </tbody>\n",
       "</table>\n",
       "</div>"
      ],
      "text/plain": [
       "             iid  r_ui       est\n",
       "1222  B00000J1G6   1.0  4.187838\n",
       "4157  B0008GP89E   1.0  4.187838\n",
       "8542  B000FGJUXC   1.0  4.187838\n",
       "8032  B00001P3XM   4.0  4.187838\n",
       "7851  B00004Z0C2   4.0  4.187838\n",
       "7291  B0002SQ3Z6   3.0  4.187838\n",
       "7133  B00009EFEK   4.0  4.187838\n",
       "6790  B0006B486K   5.0  4.187838\n",
       "6581  B00005B8SF   2.0  4.187838\n",
       "6394  B000059L44   1.0  4.187838"
      ]
     },
     "execution_count": 146,
     "metadata": {},
     "output_type": "execute_result"
    }
   ],
   "source": [
    "pred_kwm = pd.DataFrame(kwm_pred)\n",
    "pred_kwm[pred_kwm['uid'] == 'A11D1KHM7DVOQK'][['iid', 'r_ui','est']].sort_values(by = 'est',ascending = False).head(10)"
   ]
  },
  {
   "cell_type": "markdown",
   "id": "handled-finder",
   "metadata": {},
   "source": [
    "### Recommend certain products for a specific user (SVD)"
   ]
  },
  {
   "cell_type": "code",
   "execution_count": 147,
   "id": "computational-lesbian",
   "metadata": {},
   "outputs": [
    {
     "data": {
      "text/html": [
       "<div>\n",
       "<style scoped>\n",
       "    .dataframe tbody tr th:only-of-type {\n",
       "        vertical-align: middle;\n",
       "    }\n",
       "\n",
       "    .dataframe tbody tr th {\n",
       "        vertical-align: top;\n",
       "    }\n",
       "\n",
       "    .dataframe thead th {\n",
       "        text-align: right;\n",
       "    }\n",
       "</style>\n",
       "<table border=\"1\" class=\"dataframe\">\n",
       "  <thead>\n",
       "    <tr style=\"text-align: right;\">\n",
       "      <th></th>\n",
       "      <th>iid</th>\n",
       "      <th>r_ui</th>\n",
       "      <th>est</th>\n",
       "    </tr>\n",
       "  </thead>\n",
       "  <tbody>\n",
       "    <tr>\n",
       "      <th>3849</th>\n",
       "      <td>B000FONSEQ</td>\n",
       "      <td>3.0</td>\n",
       "      <td>3.541910</td>\n",
       "    </tr>\n",
       "    <tr>\n",
       "      <th>4279</th>\n",
       "      <td>B00022TN9A</td>\n",
       "      <td>4.0</td>\n",
       "      <td>3.254148</td>\n",
       "    </tr>\n",
       "    <tr>\n",
       "      <th>1289</th>\n",
       "      <td>B0000E1717</td>\n",
       "      <td>5.0</td>\n",
       "      <td>3.239696</td>\n",
       "    </tr>\n",
       "    <tr>\n",
       "      <th>1222</th>\n",
       "      <td>B00000J1G6</td>\n",
       "      <td>1.0</td>\n",
       "      <td>3.210862</td>\n",
       "    </tr>\n",
       "    <tr>\n",
       "      <th>8542</th>\n",
       "      <td>B000FGJUXC</td>\n",
       "      <td>1.0</td>\n",
       "      <td>3.210862</td>\n",
       "    </tr>\n",
       "    <tr>\n",
       "      <th>8032</th>\n",
       "      <td>B00001P3XM</td>\n",
       "      <td>4.0</td>\n",
       "      <td>3.210862</td>\n",
       "    </tr>\n",
       "    <tr>\n",
       "      <th>7851</th>\n",
       "      <td>B00004Z0C2</td>\n",
       "      <td>4.0</td>\n",
       "      <td>3.210862</td>\n",
       "    </tr>\n",
       "    <tr>\n",
       "      <th>7291</th>\n",
       "      <td>B0002SQ3Z6</td>\n",
       "      <td>3.0</td>\n",
       "      <td>3.210862</td>\n",
       "    </tr>\n",
       "    <tr>\n",
       "      <th>7133</th>\n",
       "      <td>B00009EFEK</td>\n",
       "      <td>4.0</td>\n",
       "      <td>3.210862</td>\n",
       "    </tr>\n",
       "    <tr>\n",
       "      <th>6790</th>\n",
       "      <td>B0006B486K</td>\n",
       "      <td>5.0</td>\n",
       "      <td>3.210862</td>\n",
       "    </tr>\n",
       "  </tbody>\n",
       "</table>\n",
       "</div>"
      ],
      "text/plain": [
       "             iid  r_ui       est\n",
       "3849  B000FONSEQ   3.0  3.541910\n",
       "4279  B00022TN9A   4.0  3.254148\n",
       "1289  B0000E1717   5.0  3.239696\n",
       "1222  B00000J1G6   1.0  3.210862\n",
       "8542  B000FGJUXC   1.0  3.210862\n",
       "8032  B00001P3XM   4.0  3.210862\n",
       "7851  B00004Z0C2   4.0  3.210862\n",
       "7291  B0002SQ3Z6   3.0  3.210862\n",
       "7133  B00009EFEK   4.0  3.210862\n",
       "6790  B0006B486K   5.0  3.210862"
      ]
     },
     "execution_count": 147,
     "metadata": {},
     "output_type": "execute_result"
    }
   ],
   "source": [
    "pred_svd = pd.DataFrame(prediction1)\n",
    "pred_svd[pred_svd['uid'] == 'A11D1KHM7DVOQK'][['iid', 'r_ui','est']].sort_values(by = 'est',ascending = False).head(10)"
   ]
  },
  {
   "cell_type": "markdown",
   "id": "italic-methodology",
   "metadata": {},
   "source": [
    "### Finally, it shows that SVD gives overall a better accuracy compared to other models"
   ]
  }
 ],
 "metadata": {
  "kernelspec": {
   "display_name": "Python 3",
   "language": "python",
   "name": "python3"
  },
  "language_info": {
   "codemirror_mode": {
    "name": "ipython",
    "version": 3
   },
   "file_extension": ".py",
   "mimetype": "text/x-python",
   "name": "python",
   "nbconvert_exporter": "python",
   "pygments_lexer": "ipython3",
   "version": "3.8.6"
  }
 },
 "nbformat": 4,
 "nbformat_minor": 5
}
